{
 "cells": [
  {
   "cell_type": "markdown",
   "id": "2059d166",
   "metadata": {},
   "source": [
    "# Data analysis of highest  top 1000 highest grossing hollywood films"
   ]
  },
  {
   "cell_type": "markdown",
   "id": "95ac1451",
   "metadata": {},
   "source": [
    "# Importing all Modules"
   ]
  },
  {
   "cell_type": "code",
   "execution_count": 1,
   "id": "9f9c338e",
   "metadata": {},
   "outputs": [
    {
     "name": "stdout",
     "output_type": "stream",
     "text": [
      "Requirement already satisfied: plotly==5.5.0 in c:\\users\\mrjdh\\anaconda3\\lib\\site-packages (5.5.0)\n",
      "Requirement already satisfied: tenacity>=6.2.0 in c:\\users\\mrjdh\\anaconda3\\lib\\site-packages (from plotly==5.5.0) (8.0.1)\n",
      "Requirement already satisfied: six in c:\\users\\mrjdh\\anaconda3\\lib\\site-packages (from plotly==5.5.0) (1.16.0)\n"
     ]
    }
   ],
   "source": [
    "!pip install plotly==5.5.0\n",
    "from tqdm import tqdm, notebook\n",
    "import warnings\n",
    "warnings.filterwarnings('ignore')\n",
    "#Importing Python libraries\n",
    "import numpy as np\n",
    "import pandas as pd\n",
    " #For Visualization\n",
    "import matplotlib.pyplot as plt\n",
    "import seaborn as sns\n",
    "import requests\n",
    "#For Scraping the Data\n",
    "from bs4 import BeautifulSoup\n",
    "from datetime import date,datetime\n",
    "import re\n",
    "import time\n",
    "from IPython.core.interactiveshell import InteractiveShell\n",
    "InteractiveShell.ast_node_interactivity = 'all'\n",
    "#For Visualization\n",
    "import plotly.graph_objects as go\n",
    "import plotly.express as px\n",
    "import plotly.offline as py\n",
    "import gc\n"
   ]
  },
  {
   "cell_type": "markdown",
   "id": "c7d4c5d3",
   "metadata": {},
   "source": [
    "# Loading data from csv file into dataframe"
   ]
  },
  {
   "cell_type": "code",
   "execution_count": 2,
   "id": "b3442a69",
   "metadata": {},
   "outputs": [],
   "source": [
    "df_movies_data=pd.read_csv((\"C:/Users/mrjdh/Downloads/Marathon_132_sowjanya/data.csv\"))"
   ]
  },
  {
   "cell_type": "code",
   "execution_count": 3,
   "id": "f0baa943",
   "metadata": {},
   "outputs": [],
   "source": [
    "df_movies_data=pd.DataFrame(df_movies_data)"
   ]
  },
  {
   "cell_type": "code",
   "execution_count": 4,
   "id": "95841853",
   "metadata": {},
   "outputs": [
    {
     "data": {
      "text/plain": [
       "Unnamed: 0                     int64\n",
       "Title                         object\n",
       "Movie Info                    object\n",
       "Distributor                   object\n",
       "Release Date                  object\n",
       "Domestic Sales (in $)          int64\n",
       "International Sales (in $)     int64\n",
       "World Sales (in $)             int64\n",
       "Genre                         object\n",
       "Movie Runtime                 object\n",
       "License                       object\n",
       "dtype: object"
      ]
     },
     "execution_count": 4,
     "metadata": {},
     "output_type": "execute_result"
    }
   ],
   "source": [
    "df_movies_data.dtypes"
   ]
  },
  {
   "cell_type": "code",
   "execution_count": 5,
   "id": "4036383b",
   "metadata": {},
   "outputs": [
    {
     "data": {
      "text/html": [
       "<div>\n",
       "<style scoped>\n",
       "    .dataframe tbody tr th:only-of-type {\n",
       "        vertical-align: middle;\n",
       "    }\n",
       "\n",
       "    .dataframe tbody tr th {\n",
       "        vertical-align: top;\n",
       "    }\n",
       "\n",
       "    .dataframe thead th {\n",
       "        text-align: right;\n",
       "    }\n",
       "</style>\n",
       "<table border=\"1\" class=\"dataframe\">\n",
       "  <thead>\n",
       "    <tr style=\"text-align: right;\">\n",
       "      <th></th>\n",
       "      <th>Unnamed: 0</th>\n",
       "      <th>Title</th>\n",
       "      <th>Movie Info</th>\n",
       "      <th>Distributor</th>\n",
       "      <th>Release Date</th>\n",
       "      <th>Domestic Sales (in $)</th>\n",
       "      <th>International Sales (in $)</th>\n",
       "      <th>World Sales (in $)</th>\n",
       "      <th>Genre</th>\n",
       "      <th>Movie Runtime</th>\n",
       "      <th>License</th>\n",
       "    </tr>\n",
       "  </thead>\n",
       "  <tbody>\n",
       "    <tr>\n",
       "      <th>0</th>\n",
       "      <td>0</td>\n",
       "      <td>Star Wars: Episode VII - The Force Awakens (2015)</td>\n",
       "      <td>As a new threat to the galaxy rises, Rey, a de...</td>\n",
       "      <td>Walt Disney Studios Motion Pictures</td>\n",
       "      <td>December 16, 2015</td>\n",
       "      <td>936662225</td>\n",
       "      <td>1132859475</td>\n",
       "      <td>2069521700</td>\n",
       "      <td>['Action', 'Adventure', 'Sci-Fi']</td>\n",
       "      <td>2 hr 18 min</td>\n",
       "      <td>PG-13</td>\n",
       "    </tr>\n",
       "    <tr>\n",
       "      <th>1</th>\n",
       "      <td>1</td>\n",
       "      <td>Avengers: Endgame (2019)</td>\n",
       "      <td>After the devastating events of Avengers: Infi...</td>\n",
       "      <td>Walt Disney Studios Motion Pictures</td>\n",
       "      <td>April 24, 2019</td>\n",
       "      <td>858373000</td>\n",
       "      <td>1939128328</td>\n",
       "      <td>2797501328</td>\n",
       "      <td>['Action', 'Adventure', 'Drama', 'Sci-Fi']</td>\n",
       "      <td>3 hr 1 min</td>\n",
       "      <td>PG-13</td>\n",
       "    </tr>\n",
       "    <tr>\n",
       "      <th>2</th>\n",
       "      <td>2</td>\n",
       "      <td>Avatar (2009)</td>\n",
       "      <td>A paraplegic Marine dispatched to the moon Pan...</td>\n",
       "      <td>Twentieth Century Fox</td>\n",
       "      <td>December 16, 2009</td>\n",
       "      <td>760507625</td>\n",
       "      <td>2086738578</td>\n",
       "      <td>2847246203</td>\n",
       "      <td>['Action', 'Adventure', 'Fantasy', 'Sci-Fi']</td>\n",
       "      <td>2 hr 42 min</td>\n",
       "      <td>PG-13</td>\n",
       "    </tr>\n",
       "    <tr>\n",
       "      <th>3</th>\n",
       "      <td>3</td>\n",
       "      <td>Black Panther (2018)</td>\n",
       "      <td>T'Challa, heir to the hidden but advanced king...</td>\n",
       "      <td>Walt Disney Studios Motion Pictures</td>\n",
       "      <td>NaN</td>\n",
       "      <td>700426566</td>\n",
       "      <td>647171407</td>\n",
       "      <td>1347597973</td>\n",
       "      <td>['Action', 'Adventure', 'Sci-Fi']</td>\n",
       "      <td>2 hr 14 min</td>\n",
       "      <td>NaN</td>\n",
       "    </tr>\n",
       "    <tr>\n",
       "      <th>4</th>\n",
       "      <td>4</td>\n",
       "      <td>Avengers: Infinity War (2018)</td>\n",
       "      <td>The Avengers and their allies must be willing ...</td>\n",
       "      <td>Walt Disney Studios Motion Pictures</td>\n",
       "      <td>NaN</td>\n",
       "      <td>678815482</td>\n",
       "      <td>1369544272</td>\n",
       "      <td>2048359754</td>\n",
       "      <td>['Action', 'Adventure', 'Sci-Fi']</td>\n",
       "      <td>2 hr 29 min</td>\n",
       "      <td>NaN</td>\n",
       "    </tr>\n",
       "  </tbody>\n",
       "</table>\n",
       "</div>"
      ],
      "text/plain": [
       "   Unnamed: 0                                              Title  \\\n",
       "0           0  Star Wars: Episode VII - The Force Awakens (2015)   \n",
       "1           1                           Avengers: Endgame (2019)   \n",
       "2           2                                      Avatar (2009)   \n",
       "3           3                               Black Panther (2018)   \n",
       "4           4                      Avengers: Infinity War (2018)   \n",
       "\n",
       "                                          Movie Info  \\\n",
       "0  As a new threat to the galaxy rises, Rey, a de...   \n",
       "1  After the devastating events of Avengers: Infi...   \n",
       "2  A paraplegic Marine dispatched to the moon Pan...   \n",
       "3  T'Challa, heir to the hidden but advanced king...   \n",
       "4  The Avengers and their allies must be willing ...   \n",
       "\n",
       "                           Distributor       Release Date  \\\n",
       "0  Walt Disney Studios Motion Pictures  December 16, 2015   \n",
       "1  Walt Disney Studios Motion Pictures     April 24, 2019   \n",
       "2                Twentieth Century Fox  December 16, 2009   \n",
       "3  Walt Disney Studios Motion Pictures                NaN   \n",
       "4  Walt Disney Studios Motion Pictures                NaN   \n",
       "\n",
       "   Domestic Sales (in $)  International Sales (in $)  World Sales (in $)  \\\n",
       "0              936662225                  1132859475          2069521700   \n",
       "1              858373000                  1939128328          2797501328   \n",
       "2              760507625                  2086738578          2847246203   \n",
       "3              700426566                   647171407          1347597973   \n",
       "4              678815482                  1369544272          2048359754   \n",
       "\n",
       "                                          Genre Movie Runtime License  \n",
       "0             ['Action', 'Adventure', 'Sci-Fi']   2 hr 18 min   PG-13  \n",
       "1    ['Action', 'Adventure', 'Drama', 'Sci-Fi']    3 hr 1 min   PG-13  \n",
       "2  ['Action', 'Adventure', 'Fantasy', 'Sci-Fi']   2 hr 42 min   PG-13  \n",
       "3             ['Action', 'Adventure', 'Sci-Fi']   2 hr 14 min     NaN  \n",
       "4             ['Action', 'Adventure', 'Sci-Fi']   2 hr 29 min     NaN  "
      ]
     },
     "execution_count": 5,
     "metadata": {},
     "output_type": "execute_result"
    }
   ],
   "source": [
    "df_movies_data.head()"
   ]
  },
  {
   "cell_type": "code",
   "execution_count": 6,
   "id": "a80fb381",
   "metadata": {},
   "outputs": [],
   "source": [
    "df_movies_data.drop(['Unnamed: 0'],inplace=True,axis=1)"
   ]
  },
  {
   "cell_type": "code",
   "execution_count": 7,
   "id": "6ba66002",
   "metadata": {},
   "outputs": [
    {
     "data": {
      "text/html": [
       "<div>\n",
       "<style scoped>\n",
       "    .dataframe tbody tr th:only-of-type {\n",
       "        vertical-align: middle;\n",
       "    }\n",
       "\n",
       "    .dataframe tbody tr th {\n",
       "        vertical-align: top;\n",
       "    }\n",
       "\n",
       "    .dataframe thead th {\n",
       "        text-align: right;\n",
       "    }\n",
       "</style>\n",
       "<table border=\"1\" class=\"dataframe\">\n",
       "  <thead>\n",
       "    <tr style=\"text-align: right;\">\n",
       "      <th></th>\n",
       "      <th>Title</th>\n",
       "      <th>Movie Info</th>\n",
       "      <th>Distributor</th>\n",
       "      <th>Release Date</th>\n",
       "      <th>Domestic Sales (in $)</th>\n",
       "      <th>International Sales (in $)</th>\n",
       "      <th>World Sales (in $)</th>\n",
       "      <th>Genre</th>\n",
       "      <th>Movie Runtime</th>\n",
       "      <th>License</th>\n",
       "    </tr>\n",
       "  </thead>\n",
       "  <tbody>\n",
       "    <tr>\n",
       "      <th>0</th>\n",
       "      <td>Star Wars: Episode VII - The Force Awakens (2015)</td>\n",
       "      <td>As a new threat to the galaxy rises, Rey, a de...</td>\n",
       "      <td>Walt Disney Studios Motion Pictures</td>\n",
       "      <td>December 16, 2015</td>\n",
       "      <td>936662225</td>\n",
       "      <td>1132859475</td>\n",
       "      <td>2069521700</td>\n",
       "      <td>['Action', 'Adventure', 'Sci-Fi']</td>\n",
       "      <td>2 hr 18 min</td>\n",
       "      <td>PG-13</td>\n",
       "    </tr>\n",
       "    <tr>\n",
       "      <th>1</th>\n",
       "      <td>Avengers: Endgame (2019)</td>\n",
       "      <td>After the devastating events of Avengers: Infi...</td>\n",
       "      <td>Walt Disney Studios Motion Pictures</td>\n",
       "      <td>April 24, 2019</td>\n",
       "      <td>858373000</td>\n",
       "      <td>1939128328</td>\n",
       "      <td>2797501328</td>\n",
       "      <td>['Action', 'Adventure', 'Drama', 'Sci-Fi']</td>\n",
       "      <td>3 hr 1 min</td>\n",
       "      <td>PG-13</td>\n",
       "    </tr>\n",
       "    <tr>\n",
       "      <th>2</th>\n",
       "      <td>Avatar (2009)</td>\n",
       "      <td>A paraplegic Marine dispatched to the moon Pan...</td>\n",
       "      <td>Twentieth Century Fox</td>\n",
       "      <td>December 16, 2009</td>\n",
       "      <td>760507625</td>\n",
       "      <td>2086738578</td>\n",
       "      <td>2847246203</td>\n",
       "      <td>['Action', 'Adventure', 'Fantasy', 'Sci-Fi']</td>\n",
       "      <td>2 hr 42 min</td>\n",
       "      <td>PG-13</td>\n",
       "    </tr>\n",
       "    <tr>\n",
       "      <th>3</th>\n",
       "      <td>Black Panther (2018)</td>\n",
       "      <td>T'Challa, heir to the hidden but advanced king...</td>\n",
       "      <td>Walt Disney Studios Motion Pictures</td>\n",
       "      <td>NaN</td>\n",
       "      <td>700426566</td>\n",
       "      <td>647171407</td>\n",
       "      <td>1347597973</td>\n",
       "      <td>['Action', 'Adventure', 'Sci-Fi']</td>\n",
       "      <td>2 hr 14 min</td>\n",
       "      <td>NaN</td>\n",
       "    </tr>\n",
       "    <tr>\n",
       "      <th>4</th>\n",
       "      <td>Avengers: Infinity War (2018)</td>\n",
       "      <td>The Avengers and their allies must be willing ...</td>\n",
       "      <td>Walt Disney Studios Motion Pictures</td>\n",
       "      <td>NaN</td>\n",
       "      <td>678815482</td>\n",
       "      <td>1369544272</td>\n",
       "      <td>2048359754</td>\n",
       "      <td>['Action', 'Adventure', 'Sci-Fi']</td>\n",
       "      <td>2 hr 29 min</td>\n",
       "      <td>NaN</td>\n",
       "    </tr>\n",
       "  </tbody>\n",
       "</table>\n",
       "</div>"
      ],
      "text/plain": [
       "                                               Title  \\\n",
       "0  Star Wars: Episode VII - The Force Awakens (2015)   \n",
       "1                           Avengers: Endgame (2019)   \n",
       "2                                      Avatar (2009)   \n",
       "3                               Black Panther (2018)   \n",
       "4                      Avengers: Infinity War (2018)   \n",
       "\n",
       "                                          Movie Info  \\\n",
       "0  As a new threat to the galaxy rises, Rey, a de...   \n",
       "1  After the devastating events of Avengers: Infi...   \n",
       "2  A paraplegic Marine dispatched to the moon Pan...   \n",
       "3  T'Challa, heir to the hidden but advanced king...   \n",
       "4  The Avengers and their allies must be willing ...   \n",
       "\n",
       "                           Distributor       Release Date  \\\n",
       "0  Walt Disney Studios Motion Pictures  December 16, 2015   \n",
       "1  Walt Disney Studios Motion Pictures     April 24, 2019   \n",
       "2                Twentieth Century Fox  December 16, 2009   \n",
       "3  Walt Disney Studios Motion Pictures                NaN   \n",
       "4  Walt Disney Studios Motion Pictures                NaN   \n",
       "\n",
       "   Domestic Sales (in $)  International Sales (in $)  World Sales (in $)  \\\n",
       "0              936662225                  1132859475          2069521700   \n",
       "1              858373000                  1939128328          2797501328   \n",
       "2              760507625                  2086738578          2847246203   \n",
       "3              700426566                   647171407          1347597973   \n",
       "4              678815482                  1369544272          2048359754   \n",
       "\n",
       "                                          Genre Movie Runtime License  \n",
       "0             ['Action', 'Adventure', 'Sci-Fi']   2 hr 18 min   PG-13  \n",
       "1    ['Action', 'Adventure', 'Drama', 'Sci-Fi']    3 hr 1 min   PG-13  \n",
       "2  ['Action', 'Adventure', 'Fantasy', 'Sci-Fi']   2 hr 42 min   PG-13  \n",
       "3             ['Action', 'Adventure', 'Sci-Fi']   2 hr 14 min     NaN  \n",
       "4             ['Action', 'Adventure', 'Sci-Fi']   2 hr 29 min     NaN  "
      ]
     },
     "execution_count": 7,
     "metadata": {},
     "output_type": "execute_result"
    }
   ],
   "source": [
    "df_movies_data.head()"
   ]
  },
  {
   "cell_type": "code",
   "execution_count": 8,
   "id": "866679d4",
   "metadata": {},
   "outputs": [
    {
     "data": {
      "text/plain": [
       "0      2 hr 18 min\n",
       "1       3 hr 1 min\n",
       "2      2 hr 42 min\n",
       "3      2 hr 14 min\n",
       "4      2 hr 29 min\n",
       "          ...     \n",
       "913     2 hr 3 min\n",
       "914    1 hr 22 min\n",
       "915    2 hr 13 min\n",
       "916    1 hr 38 min\n",
       "917    1 hr 42 min\n",
       "Name: Movie Runtime, Length: 918, dtype: object"
      ]
     },
     "execution_count": 8,
     "metadata": {},
     "output_type": "execute_result"
    }
   ],
   "source": [
    "df_movies_data[\"Movie Runtime\"]"
   ]
  },
  {
   "cell_type": "code",
   "execution_count": 9,
   "id": "d98693fd",
   "metadata": {},
   "outputs": [
    {
     "data": {
      "text/plain": [
       "0      Star Wars: Episode VII - The Force Awakens (2015)\n",
       "1                               Avengers: Endgame (2019)\n",
       "2                                          Avatar (2009)\n",
       "3                                   Black Panther (2018)\n",
       "4                          Avengers: Infinity War (2018)\n",
       "                             ...                        \n",
       "913                                  The Notebook (2004)\n",
       "914                     Jimmy Neutron: Boy Genius (2001)\n",
       "915                                 Eat Pray Love (2010)\n",
       "916                   The Texas Chainsaw Massacre (2003)\n",
       "917                                     Zookeeper (2011)\n",
       "Name: Title, Length: 918, dtype: object"
      ]
     },
     "execution_count": 9,
     "metadata": {},
     "output_type": "execute_result"
    }
   ],
   "source": [
    "df_movies_data['Title']"
   ]
  },
  {
   "cell_type": "markdown",
   "id": "d4dc85f6",
   "metadata": {},
   "source": [
    "# Data Cleaning"
   ]
  },
  {
   "cell_type": "code",
   "execution_count": 10,
   "id": "3f2de67d",
   "metadata": {},
   "outputs": [],
   "source": [
    "df_movies_data=pd.DataFrame(df_movies_data)"
   ]
  },
  {
   "cell_type": "code",
   "execution_count": 11,
   "id": "fec90b3c",
   "metadata": {},
   "outputs": [],
   "source": [
    "df_movies_data.fillna(value = 0, inplace = True)"
   ]
  },
  {
   "cell_type": "code",
   "execution_count": 12,
   "id": "971dd0a8",
   "metadata": {},
   "outputs": [],
   "source": [
    "df_movies_data['Release Date']=pd.to_datetime(df_movies_data['Release Date'])\n"
   ]
  },
  {
   "cell_type": "code",
   "execution_count": null,
   "id": "90e0f4e0",
   "metadata": {},
   "outputs": [],
   "source": []
  },
  {
   "cell_type": "code",
   "execution_count": 13,
   "id": "8fa6ab2b",
   "metadata": {},
   "outputs": [
    {
     "data": {
      "text/plain": [
       "Title                                 object\n",
       "Movie Info                            object\n",
       "Distributor                           object\n",
       "Release Date                  datetime64[ns]\n",
       "Domestic Sales (in $)                  int64\n",
       "International Sales (in $)             int64\n",
       "World Sales (in $)                     int64\n",
       "Genre                                 object\n",
       "Movie Runtime                         object\n",
       "License                               object\n",
       "dtype: object"
      ]
     },
     "execution_count": 13,
     "metadata": {},
     "output_type": "execute_result"
    }
   ],
   "source": [
    "df_movies_data.dtypes"
   ]
  },
  {
   "cell_type": "code",
   "execution_count": 14,
   "id": "cb19bb1f",
   "metadata": {},
   "outputs": [],
   "source": [
    "df_movies_data['Movie Runtime']=df_movies_data['Movie Runtime'].apply(lambda x:re.compile('\\d+').findall(x))"
   ]
  },
  {
   "cell_type": "code",
   "execution_count": 15,
   "id": "1e8ac8a9",
   "metadata": {},
   "outputs": [
    {
     "data": {
      "text/plain": [
       "0      [2, 18]\n",
       "1       [3, 1]\n",
       "2      [2, 42]\n",
       "3      [2, 14]\n",
       "4      [2, 29]\n",
       "        ...   \n",
       "913     [2, 3]\n",
       "914    [1, 22]\n",
       "915    [2, 13]\n",
       "916    [1, 38]\n",
       "917    [1, 42]\n",
       "Name: Movie Runtime, Length: 918, dtype: object"
      ]
     },
     "execution_count": 15,
     "metadata": {},
     "output_type": "execute_result"
    }
   ],
   "source": [
    "df_movies_data[\"Movie Runtime\"]"
   ]
  },
  {
   "cell_type": "code",
   "execution_count": 16,
   "id": "27f0094c",
   "metadata": {},
   "outputs": [],
   "source": [
    "#df_movies_data['Movie Runtime']=df_movies_data['Movie Runtime'].apply(lambda x:''.join(x))"
   ]
  },
  {
   "cell_type": "code",
   "execution_count": 17,
   "id": "a6d1bc99",
   "metadata": {},
   "outputs": [
    {
     "data": {
      "text/plain": [
       "Title                         0\n",
       "Movie Info                    0\n",
       "Distributor                   0\n",
       "Release Date                  0\n",
       "Domestic Sales (in $)         0\n",
       "International Sales (in $)    0\n",
       "World Sales (in $)            0\n",
       "Genre                         0\n",
       "Movie Runtime                 0\n",
       "License                       0\n",
       "dtype: int64"
      ]
     },
     "execution_count": 17,
     "metadata": {},
     "output_type": "execute_result"
    }
   ],
   "source": [
    "df_movies_data.isna().sum()"
   ]
  },
  {
   "cell_type": "code",
   "execution_count": 18,
   "id": "6f8d8107",
   "metadata": {},
   "outputs": [
    {
     "data": {
      "text/plain": [
       "Title                                 object\n",
       "Movie Info                            object\n",
       "Distributor                           object\n",
       "Release Date                  datetime64[ns]\n",
       "Domestic Sales (in $)                  int64\n",
       "International Sales (in $)             int64\n",
       "World Sales (in $)                     int64\n",
       "Genre                                 object\n",
       "Movie Runtime                         object\n",
       "License                               object\n",
       "dtype: object"
      ]
     },
     "execution_count": 18,
     "metadata": {},
     "output_type": "execute_result"
    }
   ],
   "source": [
    "df_movies_data.dtypes"
   ]
  },
  {
   "cell_type": "code",
   "execution_count": 19,
   "id": "79d2c58d",
   "metadata": {},
   "outputs": [],
   "source": [
    "\n",
    "#df_movies_data['Movie Runtime']=df_movies_data['Movie Runtime'].apply(lambda x: int(x[0]) * 60 + int(x[1]))"
   ]
  },
  {
   "cell_type": "code",
   "execution_count": 20,
   "id": "c7555a55",
   "metadata": {},
   "outputs": [
    {
     "name": "stdout",
     "output_type": "stream",
     "text": [
      "[['3', '1']]\n"
     ]
    }
   ],
   "source": [
    "print([df_movies_data['Movie Runtime'][1]])"
   ]
  },
  {
   "cell_type": "code",
   "execution_count": 21,
   "id": "78ade4b5",
   "metadata": {},
   "outputs": [],
   "source": [
    "#df_movies_data['selected_elements'] = [df_movies_data['Movie Runtime'][index] for index in df_movies_data['Movie Runtime']]"
   ]
  },
  {
   "cell_type": "code",
   "execution_count": 22,
   "id": "4b20d60d",
   "metadata": {},
   "outputs": [
    {
     "name": "stdout",
     "output_type": "stream",
     "text": [
      "918\n"
     ]
    }
   ],
   "source": [
    "hours = [] \n",
    "minutes=[]\n",
    "hours1=[]\n",
    "#print((df_movies_data['Movie Runtime']))\n",
    "for i in range(0,len(df_movies_data['Movie Runtime'])):\n",
    "    for k in range(0,len(df_movies_data['Movie Runtime'][i])):\n",
    "         pass\n",
    "    hours.append((df_movies_data['Movie Runtime'][i]))\n",
    "#print(hours)\n",
    "print(len(hours))\n",
    "#hours1=hours[::1]\n",
    "#minutes=hours[::2]\n",
    "#print(hours1)\n",
    "#print(len(hours))\n",
    "#print(len(minutes))"
   ]
  },
  {
   "cell_type": "code",
   "execution_count": null,
   "id": "dc2feb59",
   "metadata": {},
   "outputs": [],
   "source": []
  },
  {
   "cell_type": "code",
   "execution_count": 23,
   "id": "64809ada",
   "metadata": {},
   "outputs": [
    {
     "data": {
      "text/html": [
       "<div>\n",
       "<style scoped>\n",
       "    .dataframe tbody tr th:only-of-type {\n",
       "        vertical-align: middle;\n",
       "    }\n",
       "\n",
       "    .dataframe tbody tr th {\n",
       "        vertical-align: top;\n",
       "    }\n",
       "\n",
       "    .dataframe thead th {\n",
       "        text-align: right;\n",
       "    }\n",
       "</style>\n",
       "<table border=\"1\" class=\"dataframe\">\n",
       "  <thead>\n",
       "    <tr style=\"text-align: right;\">\n",
       "      <th></th>\n",
       "      <th>hrs</th>\n",
       "      <th>mins</th>\n",
       "    </tr>\n",
       "  </thead>\n",
       "  <tbody>\n",
       "    <tr>\n",
       "      <th>0</th>\n",
       "      <td>2</td>\n",
       "      <td>18</td>\n",
       "    </tr>\n",
       "    <tr>\n",
       "      <th>1</th>\n",
       "      <td>3</td>\n",
       "      <td>1</td>\n",
       "    </tr>\n",
       "    <tr>\n",
       "      <th>2</th>\n",
       "      <td>2</td>\n",
       "      <td>42</td>\n",
       "    </tr>\n",
       "    <tr>\n",
       "      <th>3</th>\n",
       "      <td>2</td>\n",
       "      <td>14</td>\n",
       "    </tr>\n",
       "    <tr>\n",
       "      <th>4</th>\n",
       "      <td>2</td>\n",
       "      <td>29</td>\n",
       "    </tr>\n",
       "  </tbody>\n",
       "</table>\n",
       "</div>"
      ],
      "text/plain": [
       "  hrs mins\n",
       "0   2   18\n",
       "1   3    1\n",
       "2   2   42\n",
       "3   2   14\n",
       "4   2   29"
      ]
     },
     "execution_count": 23,
     "metadata": {},
     "output_type": "execute_result"
    }
   ],
   "source": [
    "df_movies_data_1=pd.DataFrame((hours),columns=['hrs','mins'])\n",
    "df_movies_data_1.head()\n",
    "df_movies_data_1.fillna(value = 0, inplace = True)\n",
    "df_movies_data_1['hrs']=df_movies_data_1['hrs'].astype(int)\n",
    "df_movies_data_1['mins']=df_movies_data_1['mins'].astype(int)"
   ]
  },
  {
   "cell_type": "code",
   "execution_count": 24,
   "id": "2f2e6f0c",
   "metadata": {},
   "outputs": [
    {
     "data": {
      "text/plain": [
       "hrs     0\n",
       "mins    0\n",
       "dtype: int64"
      ]
     },
     "execution_count": 24,
     "metadata": {},
     "output_type": "execute_result"
    }
   ],
   "source": [
    "df_movies_data_1.isna().sum()"
   ]
  },
  {
   "cell_type": "code",
   "execution_count": 25,
   "id": "fe9ea93b",
   "metadata": {},
   "outputs": [],
   "source": [
    "for i in range(0,len(df_movies_data_1)):\n",
    "    df_movies_data_1['time']=(df_movies_data_1['hrs']) * 60 + (df_movies_data_1['mins'])"
   ]
  },
  {
   "cell_type": "code",
   "execution_count": 26,
   "id": "9765c79e",
   "metadata": {},
   "outputs": [
    {
     "data": {
      "text/html": [
       "<div>\n",
       "<style scoped>\n",
       "    .dataframe tbody tr th:only-of-type {\n",
       "        vertical-align: middle;\n",
       "    }\n",
       "\n",
       "    .dataframe tbody tr th {\n",
       "        vertical-align: top;\n",
       "    }\n",
       "\n",
       "    .dataframe thead th {\n",
       "        text-align: right;\n",
       "    }\n",
       "</style>\n",
       "<table border=\"1\" class=\"dataframe\">\n",
       "  <thead>\n",
       "    <tr style=\"text-align: right;\">\n",
       "      <th></th>\n",
       "      <th>hrs</th>\n",
       "      <th>mins</th>\n",
       "      <th>time</th>\n",
       "    </tr>\n",
       "  </thead>\n",
       "  <tbody>\n",
       "    <tr>\n",
       "      <th>0</th>\n",
       "      <td>2</td>\n",
       "      <td>18</td>\n",
       "      <td>138</td>\n",
       "    </tr>\n",
       "    <tr>\n",
       "      <th>1</th>\n",
       "      <td>3</td>\n",
       "      <td>1</td>\n",
       "      <td>181</td>\n",
       "    </tr>\n",
       "    <tr>\n",
       "      <th>2</th>\n",
       "      <td>2</td>\n",
       "      <td>42</td>\n",
       "      <td>162</td>\n",
       "    </tr>\n",
       "    <tr>\n",
       "      <th>3</th>\n",
       "      <td>2</td>\n",
       "      <td>14</td>\n",
       "      <td>134</td>\n",
       "    </tr>\n",
       "    <tr>\n",
       "      <th>4</th>\n",
       "      <td>2</td>\n",
       "      <td>29</td>\n",
       "      <td>149</td>\n",
       "    </tr>\n",
       "    <tr>\n",
       "      <th>...</th>\n",
       "      <td>...</td>\n",
       "      <td>...</td>\n",
       "      <td>...</td>\n",
       "    </tr>\n",
       "    <tr>\n",
       "      <th>913</th>\n",
       "      <td>2</td>\n",
       "      <td>3</td>\n",
       "      <td>123</td>\n",
       "    </tr>\n",
       "    <tr>\n",
       "      <th>914</th>\n",
       "      <td>1</td>\n",
       "      <td>22</td>\n",
       "      <td>82</td>\n",
       "    </tr>\n",
       "    <tr>\n",
       "      <th>915</th>\n",
       "      <td>2</td>\n",
       "      <td>13</td>\n",
       "      <td>133</td>\n",
       "    </tr>\n",
       "    <tr>\n",
       "      <th>916</th>\n",
       "      <td>1</td>\n",
       "      <td>38</td>\n",
       "      <td>98</td>\n",
       "    </tr>\n",
       "    <tr>\n",
       "      <th>917</th>\n",
       "      <td>1</td>\n",
       "      <td>42</td>\n",
       "      <td>102</td>\n",
       "    </tr>\n",
       "  </tbody>\n",
       "</table>\n",
       "<p>918 rows × 3 columns</p>\n",
       "</div>"
      ],
      "text/plain": [
       "     hrs  mins  time\n",
       "0      2    18   138\n",
       "1      3     1   181\n",
       "2      2    42   162\n",
       "3      2    14   134\n",
       "4      2    29   149\n",
       "..   ...   ...   ...\n",
       "913    2     3   123\n",
       "914    1    22    82\n",
       "915    2    13   133\n",
       "916    1    38    98\n",
       "917    1    42   102\n",
       "\n",
       "[918 rows x 3 columns]"
      ]
     },
     "execution_count": 26,
     "metadata": {},
     "output_type": "execute_result"
    }
   ],
   "source": [
    "df_movies_data_1"
   ]
  },
  {
   "cell_type": "code",
   "execution_count": 27,
   "id": "7efa6024",
   "metadata": {},
   "outputs": [],
   "source": [
    "df_movies_data['Movie_Runtime_hours'] = df_movies_data['Movie Runtime'].apply(lambda x:x[0])"
   ]
  },
  {
   "cell_type": "code",
   "execution_count": 28,
   "id": "a339c58e",
   "metadata": {},
   "outputs": [
    {
     "data": {
      "text/html": [
       "<div>\n",
       "<style scoped>\n",
       "    .dataframe tbody tr th:only-of-type {\n",
       "        vertical-align: middle;\n",
       "    }\n",
       "\n",
       "    .dataframe tbody tr th {\n",
       "        vertical-align: top;\n",
       "    }\n",
       "\n",
       "    .dataframe thead th {\n",
       "        text-align: right;\n",
       "    }\n",
       "</style>\n",
       "<table border=\"1\" class=\"dataframe\">\n",
       "  <thead>\n",
       "    <tr style=\"text-align: right;\">\n",
       "      <th></th>\n",
       "      <th>Title</th>\n",
       "      <th>Movie Info</th>\n",
       "      <th>Distributor</th>\n",
       "      <th>Release Date</th>\n",
       "      <th>Domestic Sales (in $)</th>\n",
       "      <th>International Sales (in $)</th>\n",
       "      <th>World Sales (in $)</th>\n",
       "      <th>Genre</th>\n",
       "      <th>Movie Runtime</th>\n",
       "      <th>License</th>\n",
       "      <th>Movie_Runtime_hours</th>\n",
       "    </tr>\n",
       "  </thead>\n",
       "  <tbody>\n",
       "    <tr>\n",
       "      <th>0</th>\n",
       "      <td>Star Wars: Episode VII - The Force Awakens (2015)</td>\n",
       "      <td>As a new threat to the galaxy rises, Rey, a de...</td>\n",
       "      <td>Walt Disney Studios Motion Pictures</td>\n",
       "      <td>2015-12-16</td>\n",
       "      <td>936662225</td>\n",
       "      <td>1132859475</td>\n",
       "      <td>2069521700</td>\n",
       "      <td>['Action', 'Adventure', 'Sci-Fi']</td>\n",
       "      <td>[2, 18]</td>\n",
       "      <td>PG-13</td>\n",
       "      <td>2</td>\n",
       "    </tr>\n",
       "    <tr>\n",
       "      <th>1</th>\n",
       "      <td>Avengers: Endgame (2019)</td>\n",
       "      <td>After the devastating events of Avengers: Infi...</td>\n",
       "      <td>Walt Disney Studios Motion Pictures</td>\n",
       "      <td>2019-04-24</td>\n",
       "      <td>858373000</td>\n",
       "      <td>1939128328</td>\n",
       "      <td>2797501328</td>\n",
       "      <td>['Action', 'Adventure', 'Drama', 'Sci-Fi']</td>\n",
       "      <td>[3, 1]</td>\n",
       "      <td>PG-13</td>\n",
       "      <td>3</td>\n",
       "    </tr>\n",
       "    <tr>\n",
       "      <th>2</th>\n",
       "      <td>Avatar (2009)</td>\n",
       "      <td>A paraplegic Marine dispatched to the moon Pan...</td>\n",
       "      <td>Twentieth Century Fox</td>\n",
       "      <td>2009-12-16</td>\n",
       "      <td>760507625</td>\n",
       "      <td>2086738578</td>\n",
       "      <td>2847246203</td>\n",
       "      <td>['Action', 'Adventure', 'Fantasy', 'Sci-Fi']</td>\n",
       "      <td>[2, 42]</td>\n",
       "      <td>PG-13</td>\n",
       "      <td>2</td>\n",
       "    </tr>\n",
       "    <tr>\n",
       "      <th>3</th>\n",
       "      <td>Black Panther (2018)</td>\n",
       "      <td>T'Challa, heir to the hidden but advanced king...</td>\n",
       "      <td>Walt Disney Studios Motion Pictures</td>\n",
       "      <td>1970-01-01</td>\n",
       "      <td>700426566</td>\n",
       "      <td>647171407</td>\n",
       "      <td>1347597973</td>\n",
       "      <td>['Action', 'Adventure', 'Sci-Fi']</td>\n",
       "      <td>[2, 14]</td>\n",
       "      <td>0</td>\n",
       "      <td>2</td>\n",
       "    </tr>\n",
       "    <tr>\n",
       "      <th>4</th>\n",
       "      <td>Avengers: Infinity War (2018)</td>\n",
       "      <td>The Avengers and their allies must be willing ...</td>\n",
       "      <td>Walt Disney Studios Motion Pictures</td>\n",
       "      <td>1970-01-01</td>\n",
       "      <td>678815482</td>\n",
       "      <td>1369544272</td>\n",
       "      <td>2048359754</td>\n",
       "      <td>['Action', 'Adventure', 'Sci-Fi']</td>\n",
       "      <td>[2, 29]</td>\n",
       "      <td>0</td>\n",
       "      <td>2</td>\n",
       "    </tr>\n",
       "  </tbody>\n",
       "</table>\n",
       "</div>"
      ],
      "text/plain": [
       "                                               Title  \\\n",
       "0  Star Wars: Episode VII - The Force Awakens (2015)   \n",
       "1                           Avengers: Endgame (2019)   \n",
       "2                                      Avatar (2009)   \n",
       "3                               Black Panther (2018)   \n",
       "4                      Avengers: Infinity War (2018)   \n",
       "\n",
       "                                          Movie Info  \\\n",
       "0  As a new threat to the galaxy rises, Rey, a de...   \n",
       "1  After the devastating events of Avengers: Infi...   \n",
       "2  A paraplegic Marine dispatched to the moon Pan...   \n",
       "3  T'Challa, heir to the hidden but advanced king...   \n",
       "4  The Avengers and their allies must be willing ...   \n",
       "\n",
       "                           Distributor Release Date  Domestic Sales (in $)  \\\n",
       "0  Walt Disney Studios Motion Pictures   2015-12-16              936662225   \n",
       "1  Walt Disney Studios Motion Pictures   2019-04-24              858373000   \n",
       "2                Twentieth Century Fox   2009-12-16              760507625   \n",
       "3  Walt Disney Studios Motion Pictures   1970-01-01              700426566   \n",
       "4  Walt Disney Studios Motion Pictures   1970-01-01              678815482   \n",
       "\n",
       "   International Sales (in $)  World Sales (in $)  \\\n",
       "0                  1132859475          2069521700   \n",
       "1                  1939128328          2797501328   \n",
       "2                  2086738578          2847246203   \n",
       "3                   647171407          1347597973   \n",
       "4                  1369544272          2048359754   \n",
       "\n",
       "                                          Genre Movie Runtime License  \\\n",
       "0             ['Action', 'Adventure', 'Sci-Fi']       [2, 18]   PG-13   \n",
       "1    ['Action', 'Adventure', 'Drama', 'Sci-Fi']        [3, 1]   PG-13   \n",
       "2  ['Action', 'Adventure', 'Fantasy', 'Sci-Fi']       [2, 42]   PG-13   \n",
       "3             ['Action', 'Adventure', 'Sci-Fi']       [2, 14]       0   \n",
       "4             ['Action', 'Adventure', 'Sci-Fi']       [2, 29]       0   \n",
       "\n",
       "  Movie_Runtime_hours  \n",
       "0                   2  \n",
       "1                   3  \n",
       "2                   2  \n",
       "3                   2  \n",
       "4                   2  "
      ]
     },
     "execution_count": 28,
     "metadata": {},
     "output_type": "execute_result"
    }
   ],
   "source": [
    "df_movies_data.head()"
   ]
  },
  {
   "cell_type": "code",
   "execution_count": 29,
   "id": "4265deda",
   "metadata": {},
   "outputs": [],
   "source": [
    "#df_movies_data['Movie_Runtime_mins'] = df_movies_data['Movie Runtime'].tolist()"
   ]
  },
  {
   "cell_type": "code",
   "execution_count": 30,
   "id": "628bbde5",
   "metadata": {},
   "outputs": [
    {
     "data": {
      "text/plain": [
       "Title                                 object\n",
       "Movie Info                            object\n",
       "Distributor                           object\n",
       "Release Date                  datetime64[ns]\n",
       "Domestic Sales (in $)                  int64\n",
       "International Sales (in $)             int64\n",
       "World Sales (in $)                     int64\n",
       "Genre                                 object\n",
       "Movie Runtime                         object\n",
       "License                               object\n",
       "Movie_Runtime_hours                   object\n",
       "dtype: object"
      ]
     },
     "execution_count": 30,
     "metadata": {},
     "output_type": "execute_result"
    }
   ],
   "source": [
    "df_movies_data.dtypes"
   ]
  },
  {
   "cell_type": "code",
   "execution_count": 31,
   "id": "323307a7",
   "metadata": {},
   "outputs": [
    {
     "data": {
      "text/html": [
       "<div>\n",
       "<style scoped>\n",
       "    .dataframe tbody tr th:only-of-type {\n",
       "        vertical-align: middle;\n",
       "    }\n",
       "\n",
       "    .dataframe tbody tr th {\n",
       "        vertical-align: top;\n",
       "    }\n",
       "\n",
       "    .dataframe thead th {\n",
       "        text-align: right;\n",
       "    }\n",
       "</style>\n",
       "<table border=\"1\" class=\"dataframe\">\n",
       "  <thead>\n",
       "    <tr style=\"text-align: right;\">\n",
       "      <th></th>\n",
       "      <th>hrs</th>\n",
       "      <th>mins</th>\n",
       "      <th>time</th>\n",
       "    </tr>\n",
       "  </thead>\n",
       "  <tbody>\n",
       "    <tr>\n",
       "      <th>0</th>\n",
       "      <td>2</td>\n",
       "      <td>18</td>\n",
       "      <td>138</td>\n",
       "    </tr>\n",
       "    <tr>\n",
       "      <th>1</th>\n",
       "      <td>3</td>\n",
       "      <td>1</td>\n",
       "      <td>181</td>\n",
       "    </tr>\n",
       "    <tr>\n",
       "      <th>2</th>\n",
       "      <td>2</td>\n",
       "      <td>42</td>\n",
       "      <td>162</td>\n",
       "    </tr>\n",
       "    <tr>\n",
       "      <th>3</th>\n",
       "      <td>2</td>\n",
       "      <td>14</td>\n",
       "      <td>134</td>\n",
       "    </tr>\n",
       "    <tr>\n",
       "      <th>4</th>\n",
       "      <td>2</td>\n",
       "      <td>29</td>\n",
       "      <td>149</td>\n",
       "    </tr>\n",
       "    <tr>\n",
       "      <th>...</th>\n",
       "      <td>...</td>\n",
       "      <td>...</td>\n",
       "      <td>...</td>\n",
       "    </tr>\n",
       "    <tr>\n",
       "      <th>913</th>\n",
       "      <td>2</td>\n",
       "      <td>3</td>\n",
       "      <td>123</td>\n",
       "    </tr>\n",
       "    <tr>\n",
       "      <th>914</th>\n",
       "      <td>1</td>\n",
       "      <td>22</td>\n",
       "      <td>82</td>\n",
       "    </tr>\n",
       "    <tr>\n",
       "      <th>915</th>\n",
       "      <td>2</td>\n",
       "      <td>13</td>\n",
       "      <td>133</td>\n",
       "    </tr>\n",
       "    <tr>\n",
       "      <th>916</th>\n",
       "      <td>1</td>\n",
       "      <td>38</td>\n",
       "      <td>98</td>\n",
       "    </tr>\n",
       "    <tr>\n",
       "      <th>917</th>\n",
       "      <td>1</td>\n",
       "      <td>42</td>\n",
       "      <td>102</td>\n",
       "    </tr>\n",
       "  </tbody>\n",
       "</table>\n",
       "<p>918 rows × 3 columns</p>\n",
       "</div>"
      ],
      "text/plain": [
       "     hrs  mins  time\n",
       "0      2    18   138\n",
       "1      3     1   181\n",
       "2      2    42   162\n",
       "3      2    14   134\n",
       "4      2    29   149\n",
       "..   ...   ...   ...\n",
       "913    2     3   123\n",
       "914    1    22    82\n",
       "915    2    13   133\n",
       "916    1    38    98\n",
       "917    1    42   102\n",
       "\n",
       "[918 rows x 3 columns]"
      ]
     },
     "execution_count": 31,
     "metadata": {},
     "output_type": "execute_result"
    }
   ],
   "source": [
    "df_movies_data_1"
   ]
  },
  {
   "cell_type": "code",
   "execution_count": 32,
   "id": "51128f72",
   "metadata": {},
   "outputs": [],
   "source": [
    "#df_movies_data['Movie_Runtime_mins'] = df_movies_data_1['mins']"
   ]
  },
  {
   "cell_type": "code",
   "execution_count": 33,
   "id": "333673c0",
   "metadata": {},
   "outputs": [],
   "source": [
    "#df_movies_data['Movie_Runtime_mins'] "
   ]
  },
  {
   "cell_type": "code",
   "execution_count": 34,
   "id": "7cfee08a",
   "metadata": {},
   "outputs": [],
   "source": [
    "df_movies_data['Movie_Runtime_total_time'] = df_movies_data_1['time']"
   ]
  },
  {
   "cell_type": "code",
   "execution_count": 35,
   "id": "09a2b60b",
   "metadata": {},
   "outputs": [
    {
     "data": {
      "text/html": [
       "<div>\n",
       "<style scoped>\n",
       "    .dataframe tbody tr th:only-of-type {\n",
       "        vertical-align: middle;\n",
       "    }\n",
       "\n",
       "    .dataframe tbody tr th {\n",
       "        vertical-align: top;\n",
       "    }\n",
       "\n",
       "    .dataframe thead th {\n",
       "        text-align: right;\n",
       "    }\n",
       "</style>\n",
       "<table border=\"1\" class=\"dataframe\">\n",
       "  <thead>\n",
       "    <tr style=\"text-align: right;\">\n",
       "      <th></th>\n",
       "      <th>Title</th>\n",
       "      <th>Movie Info</th>\n",
       "      <th>Distributor</th>\n",
       "      <th>Release Date</th>\n",
       "      <th>Domestic Sales (in $)</th>\n",
       "      <th>International Sales (in $)</th>\n",
       "      <th>World Sales (in $)</th>\n",
       "      <th>Genre</th>\n",
       "      <th>Movie Runtime</th>\n",
       "      <th>License</th>\n",
       "      <th>Movie_Runtime_hours</th>\n",
       "      <th>Movie_Runtime_total_time</th>\n",
       "    </tr>\n",
       "  </thead>\n",
       "  <tbody>\n",
       "    <tr>\n",
       "      <th>0</th>\n",
       "      <td>Star Wars: Episode VII - The Force Awakens (2015)</td>\n",
       "      <td>As a new threat to the galaxy rises, Rey, a de...</td>\n",
       "      <td>Walt Disney Studios Motion Pictures</td>\n",
       "      <td>2015-12-16</td>\n",
       "      <td>936662225</td>\n",
       "      <td>1132859475</td>\n",
       "      <td>2069521700</td>\n",
       "      <td>['Action', 'Adventure', 'Sci-Fi']</td>\n",
       "      <td>[2, 18]</td>\n",
       "      <td>PG-13</td>\n",
       "      <td>2</td>\n",
       "      <td>138</td>\n",
       "    </tr>\n",
       "    <tr>\n",
       "      <th>1</th>\n",
       "      <td>Avengers: Endgame (2019)</td>\n",
       "      <td>After the devastating events of Avengers: Infi...</td>\n",
       "      <td>Walt Disney Studios Motion Pictures</td>\n",
       "      <td>2019-04-24</td>\n",
       "      <td>858373000</td>\n",
       "      <td>1939128328</td>\n",
       "      <td>2797501328</td>\n",
       "      <td>['Action', 'Adventure', 'Drama', 'Sci-Fi']</td>\n",
       "      <td>[3, 1]</td>\n",
       "      <td>PG-13</td>\n",
       "      <td>3</td>\n",
       "      <td>181</td>\n",
       "    </tr>\n",
       "    <tr>\n",
       "      <th>2</th>\n",
       "      <td>Avatar (2009)</td>\n",
       "      <td>A paraplegic Marine dispatched to the moon Pan...</td>\n",
       "      <td>Twentieth Century Fox</td>\n",
       "      <td>2009-12-16</td>\n",
       "      <td>760507625</td>\n",
       "      <td>2086738578</td>\n",
       "      <td>2847246203</td>\n",
       "      <td>['Action', 'Adventure', 'Fantasy', 'Sci-Fi']</td>\n",
       "      <td>[2, 42]</td>\n",
       "      <td>PG-13</td>\n",
       "      <td>2</td>\n",
       "      <td>162</td>\n",
       "    </tr>\n",
       "    <tr>\n",
       "      <th>3</th>\n",
       "      <td>Black Panther (2018)</td>\n",
       "      <td>T'Challa, heir to the hidden but advanced king...</td>\n",
       "      <td>Walt Disney Studios Motion Pictures</td>\n",
       "      <td>1970-01-01</td>\n",
       "      <td>700426566</td>\n",
       "      <td>647171407</td>\n",
       "      <td>1347597973</td>\n",
       "      <td>['Action', 'Adventure', 'Sci-Fi']</td>\n",
       "      <td>[2, 14]</td>\n",
       "      <td>0</td>\n",
       "      <td>2</td>\n",
       "      <td>134</td>\n",
       "    </tr>\n",
       "    <tr>\n",
       "      <th>4</th>\n",
       "      <td>Avengers: Infinity War (2018)</td>\n",
       "      <td>The Avengers and their allies must be willing ...</td>\n",
       "      <td>Walt Disney Studios Motion Pictures</td>\n",
       "      <td>1970-01-01</td>\n",
       "      <td>678815482</td>\n",
       "      <td>1369544272</td>\n",
       "      <td>2048359754</td>\n",
       "      <td>['Action', 'Adventure', 'Sci-Fi']</td>\n",
       "      <td>[2, 29]</td>\n",
       "      <td>0</td>\n",
       "      <td>2</td>\n",
       "      <td>149</td>\n",
       "    </tr>\n",
       "  </tbody>\n",
       "</table>\n",
       "</div>"
      ],
      "text/plain": [
       "                                               Title  \\\n",
       "0  Star Wars: Episode VII - The Force Awakens (2015)   \n",
       "1                           Avengers: Endgame (2019)   \n",
       "2                                      Avatar (2009)   \n",
       "3                               Black Panther (2018)   \n",
       "4                      Avengers: Infinity War (2018)   \n",
       "\n",
       "                                          Movie Info  \\\n",
       "0  As a new threat to the galaxy rises, Rey, a de...   \n",
       "1  After the devastating events of Avengers: Infi...   \n",
       "2  A paraplegic Marine dispatched to the moon Pan...   \n",
       "3  T'Challa, heir to the hidden but advanced king...   \n",
       "4  The Avengers and their allies must be willing ...   \n",
       "\n",
       "                           Distributor Release Date  Domestic Sales (in $)  \\\n",
       "0  Walt Disney Studios Motion Pictures   2015-12-16              936662225   \n",
       "1  Walt Disney Studios Motion Pictures   2019-04-24              858373000   \n",
       "2                Twentieth Century Fox   2009-12-16              760507625   \n",
       "3  Walt Disney Studios Motion Pictures   1970-01-01              700426566   \n",
       "4  Walt Disney Studios Motion Pictures   1970-01-01              678815482   \n",
       "\n",
       "   International Sales (in $)  World Sales (in $)  \\\n",
       "0                  1132859475          2069521700   \n",
       "1                  1939128328          2797501328   \n",
       "2                  2086738578          2847246203   \n",
       "3                   647171407          1347597973   \n",
       "4                  1369544272          2048359754   \n",
       "\n",
       "                                          Genre Movie Runtime License  \\\n",
       "0             ['Action', 'Adventure', 'Sci-Fi']       [2, 18]   PG-13   \n",
       "1    ['Action', 'Adventure', 'Drama', 'Sci-Fi']        [3, 1]   PG-13   \n",
       "2  ['Action', 'Adventure', 'Fantasy', 'Sci-Fi']       [2, 42]   PG-13   \n",
       "3             ['Action', 'Adventure', 'Sci-Fi']       [2, 14]       0   \n",
       "4             ['Action', 'Adventure', 'Sci-Fi']       [2, 29]       0   \n",
       "\n",
       "  Movie_Runtime_hours  Movie_Runtime_total_time  \n",
       "0                   2                       138  \n",
       "1                   3                       181  \n",
       "2                   2                       162  \n",
       "3                   2                       134  \n",
       "4                   2                       149  "
      ]
     },
     "execution_count": 35,
     "metadata": {},
     "output_type": "execute_result"
    }
   ],
   "source": [
    "df_movies_data.head()"
   ]
  },
  {
   "cell_type": "code",
   "execution_count": 36,
   "id": "0b31ce80",
   "metadata": {},
   "outputs": [
    {
     "data": {
      "text/plain": [
       "Title                         0\n",
       "Movie Info                    0\n",
       "Distributor                   0\n",
       "Release Date                  0\n",
       "Domestic Sales (in $)         0\n",
       "International Sales (in $)    0\n",
       "World Sales (in $)            0\n",
       "Genre                         0\n",
       "Movie Runtime                 0\n",
       "License                       0\n",
       "Movie_Runtime_hours           0\n",
       "Movie_Runtime_total_time      0\n",
       "dtype: int64"
      ]
     },
     "execution_count": 36,
     "metadata": {},
     "output_type": "execute_result"
    }
   ],
   "source": [
    "df_movies_data.isna().sum()"
   ]
  },
  {
   "cell_type": "code",
   "execution_count": 37,
   "id": "c654f441",
   "metadata": {},
   "outputs": [],
   "source": [
    "df_movies_data['License']=df_movies_data['License'].fillna(df_movies_data['License'].mode())"
   ]
  },
  {
   "cell_type": "code",
   "execution_count": 38,
   "id": "51ca083e",
   "metadata": {},
   "outputs": [],
   "source": [
    "df_movies_data.fillna(value = 0, inplace = True)"
   ]
  },
  {
   "cell_type": "code",
   "execution_count": 39,
   "id": "e9e17765",
   "metadata": {},
   "outputs": [
    {
     "data": {
      "text/plain": [
       "Title                         0\n",
       "Movie Info                    0\n",
       "Distributor                   0\n",
       "Release Date                  0\n",
       "Domestic Sales (in $)         0\n",
       "International Sales (in $)    0\n",
       "World Sales (in $)            0\n",
       "Genre                         0\n",
       "Movie Runtime                 0\n",
       "License                       0\n",
       "Movie_Runtime_hours           0\n",
       "Movie_Runtime_total_time      0\n",
       "dtype: int64"
      ]
     },
     "execution_count": 39,
     "metadata": {},
     "output_type": "execute_result"
    }
   ],
   "source": [
    "df_movies_data.isna().sum()"
   ]
  },
  {
   "cell_type": "code",
   "execution_count": 40,
   "id": "8c22ef4d",
   "metadata": {},
   "outputs": [
    {
     "data": {
      "text/html": [
       "<div>\n",
       "<style scoped>\n",
       "    .dataframe tbody tr th:only-of-type {\n",
       "        vertical-align: middle;\n",
       "    }\n",
       "\n",
       "    .dataframe tbody tr th {\n",
       "        vertical-align: top;\n",
       "    }\n",
       "\n",
       "    .dataframe thead th {\n",
       "        text-align: right;\n",
       "    }\n",
       "</style>\n",
       "<table border=\"1\" class=\"dataframe\">\n",
       "  <thead>\n",
       "    <tr style=\"text-align: right;\">\n",
       "      <th></th>\n",
       "      <th>Title</th>\n",
       "      <th>Movie Info</th>\n",
       "      <th>Distributor</th>\n",
       "      <th>Release Date</th>\n",
       "      <th>Domestic Sales (in $)</th>\n",
       "      <th>International Sales (in $)</th>\n",
       "      <th>World Sales (in $)</th>\n",
       "      <th>Genre</th>\n",
       "      <th>Movie Runtime</th>\n",
       "      <th>License</th>\n",
       "      <th>Movie_Runtime_hours</th>\n",
       "      <th>Movie_Runtime_total_time</th>\n",
       "    </tr>\n",
       "  </thead>\n",
       "  <tbody>\n",
       "    <tr>\n",
       "      <th>0</th>\n",
       "      <td>Star Wars: Episode VII - The Force Awakens (2015)</td>\n",
       "      <td>As a new threat to the galaxy rises, Rey, a de...</td>\n",
       "      <td>Walt Disney Studios Motion Pictures</td>\n",
       "      <td>2015-12-16</td>\n",
       "      <td>936662225</td>\n",
       "      <td>1132859475</td>\n",
       "      <td>2069521700</td>\n",
       "      <td>['Action', 'Adventure', 'Sci-Fi']</td>\n",
       "      <td>[2, 18]</td>\n",
       "      <td>PG-13</td>\n",
       "      <td>2</td>\n",
       "      <td>138</td>\n",
       "    </tr>\n",
       "    <tr>\n",
       "      <th>1</th>\n",
       "      <td>Avengers: Endgame (2019)</td>\n",
       "      <td>After the devastating events of Avengers: Infi...</td>\n",
       "      <td>Walt Disney Studios Motion Pictures</td>\n",
       "      <td>2019-04-24</td>\n",
       "      <td>858373000</td>\n",
       "      <td>1939128328</td>\n",
       "      <td>2797501328</td>\n",
       "      <td>['Action', 'Adventure', 'Drama', 'Sci-Fi']</td>\n",
       "      <td>[3, 1]</td>\n",
       "      <td>PG-13</td>\n",
       "      <td>3</td>\n",
       "      <td>181</td>\n",
       "    </tr>\n",
       "    <tr>\n",
       "      <th>2</th>\n",
       "      <td>Avatar (2009)</td>\n",
       "      <td>A paraplegic Marine dispatched to the moon Pan...</td>\n",
       "      <td>Twentieth Century Fox</td>\n",
       "      <td>2009-12-16</td>\n",
       "      <td>760507625</td>\n",
       "      <td>2086738578</td>\n",
       "      <td>2847246203</td>\n",
       "      <td>['Action', 'Adventure', 'Fantasy', 'Sci-Fi']</td>\n",
       "      <td>[2, 42]</td>\n",
       "      <td>PG-13</td>\n",
       "      <td>2</td>\n",
       "      <td>162</td>\n",
       "    </tr>\n",
       "    <tr>\n",
       "      <th>3</th>\n",
       "      <td>Black Panther (2018)</td>\n",
       "      <td>T'Challa, heir to the hidden but advanced king...</td>\n",
       "      <td>Walt Disney Studios Motion Pictures</td>\n",
       "      <td>1970-01-01</td>\n",
       "      <td>700426566</td>\n",
       "      <td>647171407</td>\n",
       "      <td>1347597973</td>\n",
       "      <td>['Action', 'Adventure', 'Sci-Fi']</td>\n",
       "      <td>[2, 14]</td>\n",
       "      <td>0</td>\n",
       "      <td>2</td>\n",
       "      <td>134</td>\n",
       "    </tr>\n",
       "    <tr>\n",
       "      <th>4</th>\n",
       "      <td>Avengers: Infinity War (2018)</td>\n",
       "      <td>The Avengers and their allies must be willing ...</td>\n",
       "      <td>Walt Disney Studios Motion Pictures</td>\n",
       "      <td>1970-01-01</td>\n",
       "      <td>678815482</td>\n",
       "      <td>1369544272</td>\n",
       "      <td>2048359754</td>\n",
       "      <td>['Action', 'Adventure', 'Sci-Fi']</td>\n",
       "      <td>[2, 29]</td>\n",
       "      <td>0</td>\n",
       "      <td>2</td>\n",
       "      <td>149</td>\n",
       "    </tr>\n",
       "  </tbody>\n",
       "</table>\n",
       "</div>"
      ],
      "text/plain": [
       "                                               Title  \\\n",
       "0  Star Wars: Episode VII - The Force Awakens (2015)   \n",
       "1                           Avengers: Endgame (2019)   \n",
       "2                                      Avatar (2009)   \n",
       "3                               Black Panther (2018)   \n",
       "4                      Avengers: Infinity War (2018)   \n",
       "\n",
       "                                          Movie Info  \\\n",
       "0  As a new threat to the galaxy rises, Rey, a de...   \n",
       "1  After the devastating events of Avengers: Infi...   \n",
       "2  A paraplegic Marine dispatched to the moon Pan...   \n",
       "3  T'Challa, heir to the hidden but advanced king...   \n",
       "4  The Avengers and their allies must be willing ...   \n",
       "\n",
       "                           Distributor Release Date  Domestic Sales (in $)  \\\n",
       "0  Walt Disney Studios Motion Pictures   2015-12-16              936662225   \n",
       "1  Walt Disney Studios Motion Pictures   2019-04-24              858373000   \n",
       "2                Twentieth Century Fox   2009-12-16              760507625   \n",
       "3  Walt Disney Studios Motion Pictures   1970-01-01              700426566   \n",
       "4  Walt Disney Studios Motion Pictures   1970-01-01              678815482   \n",
       "\n",
       "   International Sales (in $)  World Sales (in $)  \\\n",
       "0                  1132859475          2069521700   \n",
       "1                  1939128328          2797501328   \n",
       "2                  2086738578          2847246203   \n",
       "3                   647171407          1347597973   \n",
       "4                  1369544272          2048359754   \n",
       "\n",
       "                                          Genre Movie Runtime License  \\\n",
       "0             ['Action', 'Adventure', 'Sci-Fi']       [2, 18]   PG-13   \n",
       "1    ['Action', 'Adventure', 'Drama', 'Sci-Fi']        [3, 1]   PG-13   \n",
       "2  ['Action', 'Adventure', 'Fantasy', 'Sci-Fi']       [2, 42]   PG-13   \n",
       "3             ['Action', 'Adventure', 'Sci-Fi']       [2, 14]       0   \n",
       "4             ['Action', 'Adventure', 'Sci-Fi']       [2, 29]       0   \n",
       "\n",
       "  Movie_Runtime_hours  Movie_Runtime_total_time  \n",
       "0                   2                       138  \n",
       "1                   3                       181  \n",
       "2                   2                       162  \n",
       "3                   2                       134  \n",
       "4                   2                       149  "
      ]
     },
     "execution_count": 40,
     "metadata": {},
     "output_type": "execute_result"
    }
   ],
   "source": [
    "df_movies_data.head()"
   ]
  },
  {
   "cell_type": "code",
   "execution_count": 41,
   "id": "e85724cd",
   "metadata": {},
   "outputs": [
    {
     "data": {
      "text/html": [
       "<div>\n",
       "<style scoped>\n",
       "    .dataframe tbody tr th:only-of-type {\n",
       "        vertical-align: middle;\n",
       "    }\n",
       "\n",
       "    .dataframe tbody tr th {\n",
       "        vertical-align: top;\n",
       "    }\n",
       "\n",
       "    .dataframe thead th {\n",
       "        text-align: right;\n",
       "    }\n",
       "</style>\n",
       "<table border=\"1\" class=\"dataframe\">\n",
       "  <thead>\n",
       "    <tr style=\"text-align: right;\">\n",
       "      <th></th>\n",
       "      <th>Domestic Sales (in $)</th>\n",
       "      <th>International Sales (in $)</th>\n",
       "      <th>World Sales (in $)</th>\n",
       "      <th>Movie_Runtime_total_time</th>\n",
       "    </tr>\n",
       "  </thead>\n",
       "  <tbody>\n",
       "    <tr>\n",
       "      <th>count</th>\n",
       "      <td>9.180000e+02</td>\n",
       "      <td>9.180000e+02</td>\n",
       "      <td>9.180000e+02</td>\n",
       "      <td>918.000000</td>\n",
       "    </tr>\n",
       "    <tr>\n",
       "      <th>mean</th>\n",
       "      <td>1.677469e+08</td>\n",
       "      <td>2.301434e+08</td>\n",
       "      <td>3.968668e+08</td>\n",
       "      <td>116.570806</td>\n",
       "    </tr>\n",
       "    <tr>\n",
       "      <th>std</th>\n",
       "      <td>1.040360e+08</td>\n",
       "      <td>2.176011e+08</td>\n",
       "      <td>3.082629e+08</td>\n",
       "      <td>20.875727</td>\n",
       "    </tr>\n",
       "    <tr>\n",
       "      <th>min</th>\n",
       "      <td>8.036084e+07</td>\n",
       "      <td>2.600000e+02</td>\n",
       "      <td>8.160000e+07</td>\n",
       "      <td>76.000000</td>\n",
       "    </tr>\n",
       "    <tr>\n",
       "      <th>25%</th>\n",
       "      <td>1.016071e+08</td>\n",
       "      <td>8.845620e+07</td>\n",
       "      <td>2.005564e+08</td>\n",
       "      <td>100.000000</td>\n",
       "    </tr>\n",
       "    <tr>\n",
       "      <th>50%</th>\n",
       "      <td>1.321351e+08</td>\n",
       "      <td>1.638819e+08</td>\n",
       "      <td>3.019416e+08</td>\n",
       "      <td>115.000000</td>\n",
       "    </tr>\n",
       "    <tr>\n",
       "      <th>75%</th>\n",
       "      <td>1.913905e+08</td>\n",
       "      <td>2.885577e+08</td>\n",
       "      <td>4.750718e+08</td>\n",
       "      <td>130.000000</td>\n",
       "    </tr>\n",
       "    <tr>\n",
       "      <th>max</th>\n",
       "      <td>9.366622e+08</td>\n",
       "      <td>2.086739e+09</td>\n",
       "      <td>2.847246e+09</td>\n",
       "      <td>201.000000</td>\n",
       "    </tr>\n",
       "  </tbody>\n",
       "</table>\n",
       "</div>"
      ],
      "text/plain": [
       "       Domestic Sales (in $)  International Sales (in $)  World Sales (in $)  \\\n",
       "count           9.180000e+02                9.180000e+02        9.180000e+02   \n",
       "mean            1.677469e+08                2.301434e+08        3.968668e+08   \n",
       "std             1.040360e+08                2.176011e+08        3.082629e+08   \n",
       "min             8.036084e+07                2.600000e+02        8.160000e+07   \n",
       "25%             1.016071e+08                8.845620e+07        2.005564e+08   \n",
       "50%             1.321351e+08                1.638819e+08        3.019416e+08   \n",
       "75%             1.913905e+08                2.885577e+08        4.750718e+08   \n",
       "max             9.366622e+08                2.086739e+09        2.847246e+09   \n",
       "\n",
       "       Movie_Runtime_total_time  \n",
       "count                918.000000  \n",
       "mean                 116.570806  \n",
       "std                   20.875727  \n",
       "min                   76.000000  \n",
       "25%                  100.000000  \n",
       "50%                  115.000000  \n",
       "75%                  130.000000  \n",
       "max                  201.000000  "
      ]
     },
     "execution_count": 41,
     "metadata": {},
     "output_type": "execute_result"
    }
   ],
   "source": [
    "df_movies_data.describe()"
   ]
  },
  {
   "cell_type": "code",
   "execution_count": 42,
   "id": "09b13bde",
   "metadata": {},
   "outputs": [
    {
     "data": {
      "text/plain": [
       "Index(['Title', 'Movie Info', 'Distributor', 'Release Date',\n",
       "       'Domestic Sales (in $)', 'International Sales (in $)',\n",
       "       'World Sales (in $)', 'Genre', 'Movie Runtime', 'License',\n",
       "       'Movie_Runtime_hours', 'Movie_Runtime_total_time'],\n",
       "      dtype='object')"
      ]
     },
     "execution_count": 42,
     "metadata": {},
     "output_type": "execute_result"
    }
   ],
   "source": [
    "df_movies_data.columns"
   ]
  },
  {
   "cell_type": "markdown",
   "id": "1223bd71",
   "metadata": {},
   "source": [
    "#Runtime>=180 movie names"
   ]
  },
  {
   "cell_type": "code",
   "execution_count": 43,
   "id": "dcdefc5a",
   "metadata": {},
   "outputs": [
    {
     "data": {
      "text/plain": [
       "1                               Avengers: Endgame (2019)\n",
       "6                                         Titanic (1997)\n",
       "45     The Lord of the Rings: The Return of the King ...\n",
       "173                                     King Kong (2005)\n",
       "218                                  Pearl Harbor (2001)\n",
       "245                            Dances with Wolves (1990)\n",
       "433                                The Green Mile (1999)\n",
       "565                       The Wolf of Wall Street (2013)\n",
       "740                              Schindler's List (1993)\n",
       "Name: Title, dtype: object"
      ]
     },
     "execution_count": 43,
     "metadata": {},
     "output_type": "execute_result"
    }
   ],
   "source": [
    "df_movies_data[df_movies_data['Movie_Runtime_total_time']>=180]['Title']"
   ]
  },
  {
   "cell_type": "code",
   "execution_count": 44,
   "id": "f8be1ad1",
   "metadata": {},
   "outputs": [
    {
     "data": {
      "text/html": [
       "<div>\n",
       "<style scoped>\n",
       "    .dataframe tbody tr th:only-of-type {\n",
       "        vertical-align: middle;\n",
       "    }\n",
       "\n",
       "    .dataframe tbody tr th {\n",
       "        vertical-align: top;\n",
       "    }\n",
       "\n",
       "    .dataframe thead th {\n",
       "        text-align: right;\n",
       "    }\n",
       "</style>\n",
       "<table border=\"1\" class=\"dataframe\">\n",
       "  <thead>\n",
       "    <tr style=\"text-align: right;\">\n",
       "      <th></th>\n",
       "      <th>Title</th>\n",
       "      <th>Movie Info</th>\n",
       "      <th>Distributor</th>\n",
       "      <th>Release Date</th>\n",
       "      <th>Domestic Sales (in $)</th>\n",
       "      <th>International Sales (in $)</th>\n",
       "      <th>World Sales (in $)</th>\n",
       "      <th>Genre</th>\n",
       "      <th>Movie Runtime</th>\n",
       "      <th>License</th>\n",
       "      <th>Movie_Runtime_hours</th>\n",
       "      <th>Movie_Runtime_total_time</th>\n",
       "      <th>year</th>\n",
       "    </tr>\n",
       "  </thead>\n",
       "  <tbody>\n",
       "    <tr>\n",
       "      <th>0</th>\n",
       "      <td>Star Wars: Episode VII - The Force Awakens (2015)</td>\n",
       "      <td>As a new threat to the galaxy rises, Rey, a de...</td>\n",
       "      <td>Walt Disney Studios Motion Pictures</td>\n",
       "      <td>2015-12-16</td>\n",
       "      <td>936662225</td>\n",
       "      <td>1132859475</td>\n",
       "      <td>2069521700</td>\n",
       "      <td>['Action', 'Adventure', 'Sci-Fi']</td>\n",
       "      <td>[2, 18]</td>\n",
       "      <td>PG-13</td>\n",
       "      <td>2</td>\n",
       "      <td>138</td>\n",
       "      <td>2015</td>\n",
       "    </tr>\n",
       "    <tr>\n",
       "      <th>1</th>\n",
       "      <td>Avengers: Endgame (2019)</td>\n",
       "      <td>After the devastating events of Avengers: Infi...</td>\n",
       "      <td>Walt Disney Studios Motion Pictures</td>\n",
       "      <td>2019-04-24</td>\n",
       "      <td>858373000</td>\n",
       "      <td>1939128328</td>\n",
       "      <td>2797501328</td>\n",
       "      <td>['Action', 'Adventure', 'Drama', 'Sci-Fi']</td>\n",
       "      <td>[3, 1]</td>\n",
       "      <td>PG-13</td>\n",
       "      <td>3</td>\n",
       "      <td>181</td>\n",
       "      <td>2019</td>\n",
       "    </tr>\n",
       "    <tr>\n",
       "      <th>2</th>\n",
       "      <td>Avatar (2009)</td>\n",
       "      <td>A paraplegic Marine dispatched to the moon Pan...</td>\n",
       "      <td>Twentieth Century Fox</td>\n",
       "      <td>2009-12-16</td>\n",
       "      <td>760507625</td>\n",
       "      <td>2086738578</td>\n",
       "      <td>2847246203</td>\n",
       "      <td>['Action', 'Adventure', 'Fantasy', 'Sci-Fi']</td>\n",
       "      <td>[2, 42]</td>\n",
       "      <td>PG-13</td>\n",
       "      <td>2</td>\n",
       "      <td>162</td>\n",
       "      <td>2009</td>\n",
       "    </tr>\n",
       "    <tr>\n",
       "      <th>3</th>\n",
       "      <td>Black Panther (2018)</td>\n",
       "      <td>T'Challa, heir to the hidden but advanced king...</td>\n",
       "      <td>Walt Disney Studios Motion Pictures</td>\n",
       "      <td>1970-01-01</td>\n",
       "      <td>700426566</td>\n",
       "      <td>647171407</td>\n",
       "      <td>1347597973</td>\n",
       "      <td>['Action', 'Adventure', 'Sci-Fi']</td>\n",
       "      <td>[2, 14]</td>\n",
       "      <td>0</td>\n",
       "      <td>2</td>\n",
       "      <td>134</td>\n",
       "      <td>1970</td>\n",
       "    </tr>\n",
       "    <tr>\n",
       "      <th>4</th>\n",
       "      <td>Avengers: Infinity War (2018)</td>\n",
       "      <td>The Avengers and their allies must be willing ...</td>\n",
       "      <td>Walt Disney Studios Motion Pictures</td>\n",
       "      <td>1970-01-01</td>\n",
       "      <td>678815482</td>\n",
       "      <td>1369544272</td>\n",
       "      <td>2048359754</td>\n",
       "      <td>['Action', 'Adventure', 'Sci-Fi']</td>\n",
       "      <td>[2, 29]</td>\n",
       "      <td>0</td>\n",
       "      <td>2</td>\n",
       "      <td>149</td>\n",
       "      <td>1970</td>\n",
       "    </tr>\n",
       "  </tbody>\n",
       "</table>\n",
       "</div>"
      ],
      "text/plain": [
       "                                               Title  \\\n",
       "0  Star Wars: Episode VII - The Force Awakens (2015)   \n",
       "1                           Avengers: Endgame (2019)   \n",
       "2                                      Avatar (2009)   \n",
       "3                               Black Panther (2018)   \n",
       "4                      Avengers: Infinity War (2018)   \n",
       "\n",
       "                                          Movie Info  \\\n",
       "0  As a new threat to the galaxy rises, Rey, a de...   \n",
       "1  After the devastating events of Avengers: Infi...   \n",
       "2  A paraplegic Marine dispatched to the moon Pan...   \n",
       "3  T'Challa, heir to the hidden but advanced king...   \n",
       "4  The Avengers and their allies must be willing ...   \n",
       "\n",
       "                           Distributor Release Date  Domestic Sales (in $)  \\\n",
       "0  Walt Disney Studios Motion Pictures   2015-12-16              936662225   \n",
       "1  Walt Disney Studios Motion Pictures   2019-04-24              858373000   \n",
       "2                Twentieth Century Fox   2009-12-16              760507625   \n",
       "3  Walt Disney Studios Motion Pictures   1970-01-01              700426566   \n",
       "4  Walt Disney Studios Motion Pictures   1970-01-01              678815482   \n",
       "\n",
       "   International Sales (in $)  World Sales (in $)  \\\n",
       "0                  1132859475          2069521700   \n",
       "1                  1939128328          2797501328   \n",
       "2                  2086738578          2847246203   \n",
       "3                   647171407          1347597973   \n",
       "4                  1369544272          2048359754   \n",
       "\n",
       "                                          Genre Movie Runtime License  \\\n",
       "0             ['Action', 'Adventure', 'Sci-Fi']       [2, 18]   PG-13   \n",
       "1    ['Action', 'Adventure', 'Drama', 'Sci-Fi']        [3, 1]   PG-13   \n",
       "2  ['Action', 'Adventure', 'Fantasy', 'Sci-Fi']       [2, 42]   PG-13   \n",
       "3             ['Action', 'Adventure', 'Sci-Fi']       [2, 14]       0   \n",
       "4             ['Action', 'Adventure', 'Sci-Fi']       [2, 29]       0   \n",
       "\n",
       "  Movie_Runtime_hours  Movie_Runtime_total_time  year  \n",
       "0                   2                       138  2015  \n",
       "1                   3                       181  2019  \n",
       "2                   2                       162  2009  \n",
       "3                   2                       134  1970  \n",
       "4                   2                       149  1970  "
      ]
     },
     "execution_count": 44,
     "metadata": {},
     "output_type": "execute_result"
    }
   ],
   "source": [
    "df_movies_data['year'] = pd.DatetimeIndex(df_movies_data['Release Date']).year\n",
    "df_movies_data.head()"
   ]
  },
  {
   "cell_type": "markdown",
   "id": "352d6cf0",
   "metadata": {},
   "source": [
    "#year that has highest international sales"
   ]
  },
  {
   "cell_type": "code",
   "execution_count": 45,
   "id": "731c958b",
   "metadata": {},
   "outputs": [
    {
     "data": {
      "text/plain": [
       "Release Date\n",
       "1983-11-23    2.600000e+02\n",
       "1986-12-19    1.506700e+04\n",
       "2013-04-12    2.450488e+06\n",
       "2018-03-15    2.604529e+06\n",
       "2012-04-20    4.523302e+06\n",
       "                  ...     \n",
       "2015-12-16    1.132859e+09\n",
       "2015-04-01    1.162334e+09\n",
       "1997-12-19    1.542283e+09\n",
       "2019-04-24    1.939128e+09\n",
       "2009-12-16    2.086739e+09\n",
       "Name: International Sales (in $), Length: 741, dtype: float64"
      ]
     },
     "execution_count": 45,
     "metadata": {},
     "output_type": "execute_result"
    }
   ],
   "source": [
    "df_movies_data.groupby('Release Date')['International Sales (in $)'].mean().sort_values()"
   ]
  },
  {
   "cell_type": "code",
   "execution_count": 46,
   "id": "889cb9ea",
   "metadata": {},
   "outputs": [],
   "source": [
    "#df_movies_data['year']=df_movies_data['year'].astype(int)\n",
    "#df_movies_data['International Sales (in $)']=df_movies_data['International Sales (in $)'].astype(int)"
   ]
  },
  {
   "cell_type": "code",
   "execution_count": 47,
   "id": "e1526a33",
   "metadata": {},
   "outputs": [
    {
     "data": {
      "text/plain": [
       "Title                                 object\n",
       "Movie Info                            object\n",
       "Distributor                           object\n",
       "Release Date                  datetime64[ns]\n",
       "Domestic Sales (in $)                  int64\n",
       "International Sales (in $)             int64\n",
       "World Sales (in $)                     int64\n",
       "Genre                                 object\n",
       "Movie Runtime                         object\n",
       "License                               object\n",
       "Movie_Runtime_hours                   object\n",
       "Movie_Runtime_total_time               int32\n",
       "year                                   int64\n",
       "dtype: object"
      ]
     },
     "execution_count": 47,
     "metadata": {},
     "output_type": "execute_result"
    }
   ],
   "source": [
    "df_movies_data.dtypes"
   ]
  },
  {
   "cell_type": "code",
   "execution_count": 48,
   "id": "84449bdb",
   "metadata": {},
   "outputs": [],
   "source": [
    "df_mean=df_movies_data.groupby('Release Date')['International Sales (in $)'].mean().sort_values().head()\n"
   ]
  },
  {
   "cell_type": "code",
   "execution_count": 49,
   "id": "dc7742e8",
   "metadata": {},
   "outputs": [],
   "source": [
    "df_mean=pd.DataFrame(df_mean)"
   ]
  },
  {
   "cell_type": "code",
   "execution_count": 50,
   "id": "7419b32a",
   "metadata": {},
   "outputs": [
    {
     "data": {
      "text/plain": [
       "Index(['International Sales (in $)'], dtype='object')"
      ]
     },
     "execution_count": 50,
     "metadata": {},
     "output_type": "execute_result"
    }
   ],
   "source": [
    "df_mean.columns"
   ]
  },
  {
   "cell_type": "markdown",
   "id": "6f6eea0d",
   "metadata": {},
   "source": [
    "# Data Visualization"
   ]
  },
  {
   "cell_type": "markdown",
   "id": "726cc9e3",
   "metadata": {},
   "source": [
    "# Top 5 years which got highest international sales"
   ]
  },
  {
   "cell_type": "code",
   "execution_count": 51,
   "id": "77cc3296",
   "metadata": {},
   "outputs": [
    {
     "data": {
      "text/plain": [
       "<Figure size 1440x720 with 0 Axes>"
      ]
     },
     "execution_count": 51,
     "metadata": {},
     "output_type": "execute_result"
    },
    {
     "data": {
      "text/plain": [
       "<AxesSubplot:xlabel='year', ylabel='International Sales (in $)'>"
      ]
     },
     "execution_count": 51,
     "metadata": {},
     "output_type": "execute_result"
    },
    {
     "data": {
      "text/plain": [
       "(array([0, 1, 2, 3, 4]),\n",
       " [Text(0, 0, '1970'),\n",
       "  Text(1, 0, '1997'),\n",
       "  Text(2, 0, '2009'),\n",
       "  Text(3, 0, '2015'),\n",
       "  Text(4, 0, '2019')])"
      ]
     },
     "execution_count": 51,
     "metadata": {},
     "output_type": "execute_result"
    },
    {
     "data": {
      "image/png": "[encoded data removed]",
      "text/plain": [
       "<Figure size 1440x720 with 1 Axes>"
      ]
     },
     "metadata": {
      "needs_background": "light"
     },
     "output_type": "display_data"
    }
   ],
   "source": [
    "plt.figure(figsize=(20,10))\n",
    "sns.barplot(x='year',y='International Sales (in $)',data=df_movies_data.nlargest(5, 'International Sales (in $)'))\n",
    "plt.xticks(rotation=45)\n",
    "plt.show()"
   ]
  },
  {
   "cell_type": "markdown",
   "id": "f6db554a",
   "metadata": {},
   "source": [
    "# Top 5 Movies got more world sales"
   ]
  },
  {
   "cell_type": "code",
   "execution_count": 52,
   "id": "74dcdcf4",
   "metadata": {},
   "outputs": [
    {
     "data": {
      "text/plain": [
       "<Figure size 1440x720 with 0 Axes>"
      ]
     },
     "execution_count": 52,
     "metadata": {},
     "output_type": "execute_result"
    },
    {
     "data": {
      "text/plain": [
       "<AxesSubplot:xlabel='Title', ylabel='World Sales (in $)'>"
      ]
     },
     "execution_count": 52,
     "metadata": {},
     "output_type": "execute_result"
    },
    {
     "data": {
      "text/plain": [
       "(array([0, 1, 2, 3, 4]),\n",
       " [Text(0, 0, 'Avatar (2009)'),\n",
       "  Text(1, 0, 'Avengers: Endgame (2019)'),\n",
       "  Text(2, 0, 'Titanic (1997)'),\n",
       "  Text(3, 0, 'Star Wars: Episode VII - The Force Awakens (2015)'),\n",
       "  Text(4, 0, 'Avengers: Infinity War (2018)')])"
      ]
     },
     "execution_count": 52,
     "metadata": {},
     "output_type": "execute_result"
    },
    {
     "data": {
      "image/png": "[encoded data removed]",
      "text/plain": [
       "<Figure size 1440x720 with 1 Axes>"
      ]
     },
     "metadata": {
      "needs_background": "light"
     },
     "output_type": "display_data"
    }
   ],
   "source": [
    "plt.figure(figsize=(20,10))\n",
    "sns.barplot(x='Title',y='World Sales (in $)',data=df_movies_data.nlargest(5, 'World Sales (in $)'))\n",
    "plt.xticks(rotation=45)\n",
    "plt.show()"
   ]
  },
  {
   "cell_type": "markdown",
   "id": "dbadd7f6",
   "metadata": {},
   "source": [
    "# Top 5 movies got more domestic sales"
   ]
  },
  {
   "cell_type": "code",
   "execution_count": 53,
   "id": "d044040a",
   "metadata": {},
   "outputs": [
    {
     "data": {
      "text/plain": [
       "<Figure size 1440x720 with 0 Axes>"
      ]
     },
     "execution_count": 53,
     "metadata": {},
     "output_type": "execute_result"
    },
    {
     "data": {
      "text/plain": [
       "<AxesSubplot:xlabel='Title', ylabel='Domestic Sales (in $)'>"
      ]
     },
     "execution_count": 53,
     "metadata": {},
     "output_type": "execute_result"
    },
    {
     "data": {
      "text/plain": [
       "(array([0, 1, 2, 3, 4]),\n",
       " [Text(0, 0, 'Star Wars: Episode VII - The Force Awakens (2015)'),\n",
       "  Text(1, 0, 'Avengers: Endgame (2019)'),\n",
       "  Text(2, 0, 'Avatar (2009)'),\n",
       "  Text(3, 0, 'Black Panther (2018)'),\n",
       "  Text(4, 0, 'Avengers: Infinity War (2018)')])"
      ]
     },
     "execution_count": 53,
     "metadata": {},
     "output_type": "execute_result"
    },
    {
     "data": {
      "image/png": "[encoded data removed]",
      "text/plain": [
       "<Figure size 1440x720 with 1 Axes>"
      ]
     },
     "metadata": {
      "needs_background": "light"
     },
     "output_type": "display_data"
    }
   ],
   "source": [
    "plt.figure(figsize=(20,10))\n",
    "sns.barplot(x='Title',y='Domestic Sales (in $)',data=df_movies_data.nlargest(5, 'Domestic Sales (in $)'))\n",
    "plt.xticks(rotation=45)\n",
    "plt.show()"
   ]
  },
  {
   "cell_type": "markdown",
   "id": "9e8bd6b3",
   "metadata": {},
   "source": [
    "# Top 5 movies got more international sales"
   ]
  },
  {
   "cell_type": "code",
   "execution_count": 54,
   "id": "ccc862f3",
   "metadata": {},
   "outputs": [
    {
     "data": {
      "text/plain": [
       "<Figure size 1440x720 with 0 Axes>"
      ]
     },
     "execution_count": 54,
     "metadata": {},
     "output_type": "execute_result"
    },
    {
     "data": {
      "text/plain": [
       "<AxesSubplot:xlabel='Title', ylabel='International Sales (in $)'>"
      ]
     },
     "execution_count": 54,
     "metadata": {},
     "output_type": "execute_result"
    },
    {
     "data": {
      "text/plain": [
       "(array([0, 1, 2, 3, 4]),\n",
       " [Text(0, 0, 'Avatar (2009)'),\n",
       "  Text(1, 0, 'Avengers: Endgame (2019)'),\n",
       "  Text(2, 0, 'Titanic (1997)'),\n",
       "  Text(3, 0, 'Avengers: Infinity War (2018)'),\n",
       "  Text(4, 0, 'Furious 7 (2015)')])"
      ]
     },
     "execution_count": 54,
     "metadata": {},
     "output_type": "execute_result"
    },
    {
     "data": {
      "image/png": "[encoded data removed]",
      "text/plain": [
       "<Figure size 1440x720 with 1 Axes>"
      ]
     },
     "metadata": {
      "needs_background": "light"
     },
     "output_type": "display_data"
    }
   ],
   "source": [
    "plt.figure(figsize=(20,10))\n",
    "sns.barplot(x='Title',y='International Sales (in $)',data=df_movies_data.nlargest(5, 'International Sales (in $)'))\n",
    "plt.xticks(rotation=45)\n",
    "plt.show()"
   ]
  },
  {
   "cell_type": "markdown",
   "id": "81c55c56",
   "metadata": {},
   "source": [
    "# Top Distributors According to the international sales"
   ]
  },
  {
   "cell_type": "code",
   "execution_count": 55,
   "id": "ba276a27",
   "metadata": {},
   "outputs": [
    {
     "data": {
      "text/plain": [
       "<Figure size 1440x720 with 0 Axes>"
      ]
     },
     "execution_count": 55,
     "metadata": {},
     "output_type": "execute_result"
    },
    {
     "data": {
      "text/plain": [
       "<AxesSubplot:xlabel='Distributor', ylabel='International Sales (in $)'>"
      ]
     },
     "execution_count": 55,
     "metadata": {},
     "output_type": "execute_result"
    },
    {
     "data": {
      "text/plain": [
       "(array([0, 1, 2, 3]),\n",
       " [Text(0, 0, 'Twentieth Century Fox'),\n",
       "  Text(1, 0, 'Walt Disney Studios Motion Pictures'),\n",
       "  Text(2, 0, 'Paramount Pictures'),\n",
       "  Text(3, 0, 'Universal Pictures')])"
      ]
     },
     "execution_count": 55,
     "metadata": {},
     "output_type": "execute_result"
    },
    {
     "data": {
      "image/png": "[encoded data removed]",
      "text/plain": [
       "<Figure size 1440x720 with 1 Axes>"
      ]
     },
     "metadata": {
      "needs_background": "light"
     },
     "output_type": "display_data"
    }
   ],
   "source": [
    "plt.figure(figsize=(20,10))\n",
    "sns.barplot(x='Distributor',y='International Sales (in $)',data=df_movies_data.nlargest(5, 'International Sales (in $)'))\n",
    "plt.xticks(rotation=45)\n",
    "plt.show()"
   ]
  },
  {
   "cell_type": "markdown",
   "id": "0f9f10ee",
   "metadata": {},
   "source": [
    "# Top Distributors According to the Domestic sales"
   ]
  },
  {
   "cell_type": "code",
   "execution_count": 56,
   "id": "20b1d0a4",
   "metadata": {
    "scrolled": true
   },
   "outputs": [
    {
     "data": {
      "text/plain": [
       "<Figure size 1440x720 with 0 Axes>"
      ]
     },
     "execution_count": 56,
     "metadata": {},
     "output_type": "execute_result"
    },
    {
     "data": {
      "text/plain": [
       "<AxesSubplot:xlabel='Distributor', ylabel='Domestic Sales (in $)'>"
      ]
     },
     "execution_count": 56,
     "metadata": {},
     "output_type": "execute_result"
    },
    {
     "data": {
      "text/plain": [
       "(array([0, 1]),\n",
       " [Text(0, 0, 'Walt Disney Studios Motion Pictures'),\n",
       "  Text(1, 0, 'Twentieth Century Fox')])"
      ]
     },
     "execution_count": 56,
     "metadata": {},
     "output_type": "execute_result"
    },
    {
     "data": {
      "image/png": "[encoded data removed]",
      "text/plain": [
       "<Figure size 1440x720 with 1 Axes>"
      ]
     },
     "metadata": {
      "needs_background": "light"
     },
     "output_type": "display_data"
    }
   ],
   "source": [
    "plt.figure(figsize=(20,10))\n",
    "sns.barplot(x='Distributor',y='Domestic Sales (in $)',data=df_movies_data.nlargest(5, 'Domestic Sales (in $)'))\n",
    "plt.xticks(rotation=45)\n",
    "plt.show()"
   ]
  },
  {
   "cell_type": "markdown",
   "id": "4ae7e882",
   "metadata": {},
   "source": [
    "# Top Distributors According to the world sales"
   ]
  },
  {
   "cell_type": "code",
   "execution_count": 57,
   "id": "1f01c23b",
   "metadata": {
    "scrolled": true
   },
   "outputs": [
    {
     "data": {
      "text/plain": [
       "<Figure size 1440x720 with 0 Axes>"
      ]
     },
     "execution_count": 57,
     "metadata": {},
     "output_type": "execute_result"
    },
    {
     "data": {
      "text/plain": [
       "<AxesSubplot:xlabel='Distributor', ylabel='World Sales (in $)'>"
      ]
     },
     "execution_count": 57,
     "metadata": {},
     "output_type": "execute_result"
    },
    {
     "data": {
      "text/plain": [
       "(array([0, 1, 2]),\n",
       " [Text(0, 0, 'Twentieth Century Fox'),\n",
       "  Text(1, 0, 'Walt Disney Studios Motion Pictures'),\n",
       "  Text(2, 0, 'Paramount Pictures')])"
      ]
     },
     "execution_count": 57,
     "metadata": {},
     "output_type": "execute_result"
    },
    {
     "data": {
      "image/png": "[encoded data removed]",
      "text/plain": [
       "<Figure size 1440x720 with 1 Axes>"
      ]
     },
     "metadata": {
      "needs_background": "light"
     },
     "output_type": "display_data"
    }
   ],
   "source": [
    "plt.figure(figsize=(20,10))\n",
    "sns.barplot(x='Distributor',y='World Sales (in $)',data=df_movies_data.nlargest(5, 'World Sales (in $)'))\n",
    "plt.xticks(rotation=45)\n",
    "plt.show()"
   ]
  },
  {
   "cell_type": "markdown",
   "id": "4018ed22",
   "metadata": {},
   "source": [
    "# Movies according to the distributors"
   ]
  },
  {
   "cell_type": "code",
   "execution_count": 58,
   "id": "a086b562",
   "metadata": {},
   "outputs": [
    {
     "data": {
      "text/plain": [
       "<Figure size 720x360 with 0 Axes>"
      ]
     },
     "execution_count": 58,
     "metadata": {},
     "output_type": "execute_result"
    },
    {
     "data": {
      "text/plain": [
       "<AxesSubplot:>"
      ]
     },
     "execution_count": 58,
     "metadata": {},
     "output_type": "execute_result"
    },
    {
     "data": {
      "image/png": "[encoded data removed]",
      "text/plain": [
       "<Figure size 720x360 with 1 Axes>"
      ]
     },
     "metadata": {
      "needs_background": "light"
     },
     "output_type": "display_data"
    }
   ],
   "source": [
    "plt.figure(figsize=(10,5))\n",
    "df_movies_data['Distributor'].value_counts().plot(kind='bar')\n"
   ]
  },
  {
   "cell_type": "code",
   "execution_count": null,
   "id": "e54a1c99",
   "metadata": {},
   "outputs": [],
   "source": []
  },
  {
   "cell_type": "code",
   "execution_count": 59,
   "id": "37dadefb",
   "metadata": {},
   "outputs": [
    {
     "data": {
      "text/plain": [
       "Index(['Title', 'Movie Info', 'Distributor', 'Release Date',\n",
       "       'Domestic Sales (in $)', 'International Sales (in $)',\n",
       "       'World Sales (in $)', 'Genre', 'Movie Runtime', 'License',\n",
       "       'Movie_Runtime_hours', 'Movie_Runtime_total_time', 'year'],\n",
       "      dtype='object')"
      ]
     },
     "execution_count": 59,
     "metadata": {},
     "output_type": "execute_result"
    }
   ],
   "source": [
    "df_movies_data.columns"
   ]
  },
  {
   "cell_type": "code",
   "execution_count": 60,
   "id": "360e2d9b",
   "metadata": {},
   "outputs": [],
   "source": [
    "top10_len=df_movies_data.nlargest(10,'Movie_Runtime_total_time')[['Title','Movie_Runtime_total_time']].set_index('Title')"
   ]
  },
  {
   "cell_type": "code",
   "execution_count": 61,
   "id": "f775143d",
   "metadata": {},
   "outputs": [
    {
     "data": {
      "text/html": [
       "<div>\n",
       "<style scoped>\n",
       "    .dataframe tbody tr th:only-of-type {\n",
       "        vertical-align: middle;\n",
       "    }\n",
       "\n",
       "    .dataframe tbody tr th {\n",
       "        vertical-align: top;\n",
       "    }\n",
       "\n",
       "    .dataframe thead th {\n",
       "        text-align: right;\n",
       "    }\n",
       "</style>\n",
       "<table border=\"1\" class=\"dataframe\">\n",
       "  <thead>\n",
       "    <tr style=\"text-align: right;\">\n",
       "      <th></th>\n",
       "      <th>Movie_Runtime_total_time</th>\n",
       "    </tr>\n",
       "    <tr>\n",
       "      <th>Title</th>\n",
       "      <th></th>\n",
       "    </tr>\n",
       "  </thead>\n",
       "  <tbody>\n",
       "    <tr>\n",
       "      <th>The Lord of the Rings: The Return of the King (2003)</th>\n",
       "      <td>201</td>\n",
       "    </tr>\n",
       "    <tr>\n",
       "      <th>Schindler's List (1993)</th>\n",
       "      <td>195</td>\n",
       "    </tr>\n",
       "    <tr>\n",
       "      <th>Titanic (1997)</th>\n",
       "      <td>194</td>\n",
       "    </tr>\n",
       "    <tr>\n",
       "      <th>The Green Mile (1999)</th>\n",
       "      <td>189</td>\n",
       "    </tr>\n",
       "    <tr>\n",
       "      <th>King Kong (2005)</th>\n",
       "      <td>187</td>\n",
       "    </tr>\n",
       "    <tr>\n",
       "      <th>Pearl Harbor (2001)</th>\n",
       "      <td>183</td>\n",
       "    </tr>\n",
       "    <tr>\n",
       "      <th>Avengers: Endgame (2019)</th>\n",
       "      <td>181</td>\n",
       "    </tr>\n",
       "    <tr>\n",
       "      <th>Dances with Wolves (1990)</th>\n",
       "      <td>181</td>\n",
       "    </tr>\n",
       "    <tr>\n",
       "      <th>The Wolf of Wall Street (2013)</th>\n",
       "      <td>180</td>\n",
       "    </tr>\n",
       "    <tr>\n",
       "      <th>The Lord of the Rings: The Two Towers (2002)</th>\n",
       "      <td>179</td>\n",
       "    </tr>\n",
       "  </tbody>\n",
       "</table>\n",
       "</div>"
      ],
      "text/plain": [
       "                                                    Movie_Runtime_total_time\n",
       "Title                                                                       \n",
       "The Lord of the Rings: The Return of the King (...                       201\n",
       "Schindler's List (1993)                                                  195\n",
       "Titanic (1997)                                                           194\n",
       "The Green Mile (1999)                                                    189\n",
       "King Kong (2005)                                                         187\n",
       "Pearl Harbor (2001)                                                      183\n",
       "Avengers: Endgame (2019)                                                 181\n",
       "Dances with Wolves (1990)                                                181\n",
       "The Wolf of Wall Street (2013)                                           180\n",
       "The Lord of the Rings: The Two Towers (2002)                             179"
      ]
     },
     "execution_count": 61,
     "metadata": {},
     "output_type": "execute_result"
    }
   ],
   "source": [
    "top10_len"
   ]
  },
  {
   "cell_type": "markdown",
   "id": "89e242ce",
   "metadata": {},
   "source": [
    "# Movies that have more run time"
   ]
  },
  {
   "cell_type": "code",
   "execution_count": 62,
   "id": "8291f415",
   "metadata": {},
   "outputs": [
    {
     "data": {
      "text/plain": [
       "<AxesSubplot:xlabel='Movie_Runtime_total_time', ylabel='Title'>"
      ]
     },
     "execution_count": 62,
     "metadata": {},
     "output_type": "execute_result"
    },
    {
     "data": {
      "image/png": "[encoded data removed]",
      "text/plain": [
       "<Figure size 432x288 with 1 Axes>"
      ]
     },
     "metadata": {
      "needs_background": "light"
     },
     "output_type": "display_data"
    }
   ],
   "source": [
    "sns.barplot(x='Movie_Runtime_total_time',y=top10_len.index,data=top10_len)"
   ]
  },
  {
   "cell_type": "markdown",
   "id": "a9c6c5dc",
   "metadata": {},
   "source": [
    "# According to the above plot  Lord of the rings which was released in 2003 is lengthy."
   ]
  },
  {
   "cell_type": "code",
   "execution_count": 63,
   "id": "9bc451f2",
   "metadata": {},
   "outputs": [],
   "source": [
    "#df_movies_data['year'].value_counts()"
   ]
  },
  {
   "cell_type": "code",
   "execution_count": 64,
   "id": "28327e01",
   "metadata": {},
   "outputs": [
    {
     "data": {
      "text/plain": [
       "Index(['Title', 'Movie Info', 'Distributor', 'Release Date',\n",
       "       'Domestic Sales (in $)', 'International Sales (in $)',\n",
       "       'World Sales (in $)', 'Genre', 'Movie Runtime', 'License',\n",
       "       'Movie_Runtime_hours', 'Movie_Runtime_total_time', 'year'],\n",
       "      dtype='object')"
      ]
     },
     "execution_count": 64,
     "metadata": {},
     "output_type": "execute_result"
    }
   ],
   "source": [
    "df_movies_data.columns"
   ]
  },
  {
   "cell_type": "code",
   "execution_count": 65,
   "id": "76abb23b",
   "metadata": {},
   "outputs": [],
   "source": [
    "df_movies_data_high_int=df_movies_data[df_movies_data['International Sales (in $)'].max()==df_movies_data['International Sales (in $)']]"
   ]
  },
  {
   "cell_type": "code",
   "execution_count": 66,
   "id": "0c199c07",
   "metadata": {},
   "outputs": [
    {
     "data": {
      "text/plain": [
       "2    Avatar (2009)\n",
       "Name: Title, dtype: object"
      ]
     },
     "execution_count": 66,
     "metadata": {},
     "output_type": "execute_result"
    }
   ],
   "source": [
    "df_movies_data_high_int['Title']"
   ]
  },
  {
   "cell_type": "markdown",
   "id": "82c0a2e1",
   "metadata": {},
   "source": [
    "# Avatar(2009)is the highest collected international sales."
   ]
  },
  {
   "cell_type": "code",
   "execution_count": 67,
   "id": "53111c33",
   "metadata": {},
   "outputs": [],
   "source": [
    "df_movies_data_high_dom=df_movies_data[df_movies_data['Domestic Sales (in $)'].max()==df_movies_data['Domestic Sales (in $)']]"
   ]
  },
  {
   "cell_type": "code",
   "execution_count": 68,
   "id": "b4e6be93",
   "metadata": {},
   "outputs": [],
   "source": [
    "df_movies_data_high_world=df_movies_data[df_movies_data['World Sales (in $)'].max()==df_movies_data['World Sales (in $)']]"
   ]
  },
  {
   "cell_type": "code",
   "execution_count": 69,
   "id": "de85dbac",
   "metadata": {},
   "outputs": [
    {
     "data": {
      "text/plain": [
       "0    Star Wars: Episode VII - The Force Awakens (2015)\n",
       "Name: Title, dtype: object"
      ]
     },
     "execution_count": 69,
     "metadata": {},
     "output_type": "execute_result"
    }
   ],
   "source": [
    "df_movies_data_high_dom['Title']"
   ]
  },
  {
   "cell_type": "markdown",
   "id": "0e76480e",
   "metadata": {},
   "source": [
    "# Star Wars: Episode VII - The Force Awakens (2015) is the highest domestic sales collected movie"
   ]
  },
  {
   "cell_type": "code",
   "execution_count": 70,
   "id": "7183e4ea",
   "metadata": {},
   "outputs": [
    {
     "data": {
      "text/plain": [
       "2    Avatar (2009)\n",
       "Name: Title, dtype: object"
      ]
     },
     "execution_count": 70,
     "metadata": {},
     "output_type": "execute_result"
    }
   ],
   "source": [
    "df_movies_data_high_world['Title']"
   ]
  },
  {
   "cell_type": "markdown",
   "id": "c905353e",
   "metadata": {},
   "source": [
    "# Avatar (2009)is highest world sales collected movie"
   ]
  },
  {
   "cell_type": "code",
   "execution_count": 71,
   "id": "dba84e1e",
   "metadata": {},
   "outputs": [
    {
     "name": "stdout",
     "output_type": "stream",
     "text": [
      "Requirement already satisfied: neattext in c:\\users\\mrjdh\\anaconda3\\lib\\site-packages (0.1.2)\n"
     ]
    }
   ],
   "source": [
    "!pip install neattext"
   ]
  },
  {
   "cell_type": "code",
   "execution_count": 72,
   "id": "4bd050b2",
   "metadata": {},
   "outputs": [],
   "source": [
    "import neattext.functions as nfx"
   ]
  },
  {
   "cell_type": "code",
   "execution_count": 73,
   "id": "673d6cfb",
   "metadata": {},
   "outputs": [
    {
     "data": {
      "text/plain": [
       "Index(['Title', 'Movie Info', 'Distributor', 'Release Date',\n",
       "       'Domestic Sales (in $)', 'International Sales (in $)',\n",
       "       'World Sales (in $)', 'Genre', 'Movie Runtime', 'License',\n",
       "       'Movie_Runtime_hours', 'Movie_Runtime_total_time', 'year'],\n",
       "      dtype='object')"
      ]
     },
     "execution_count": 73,
     "metadata": {},
     "output_type": "execute_result"
    }
   ],
   "source": [
    "df_movies_data.columns"
   ]
  },
  {
   "cell_type": "code",
   "execution_count": 74,
   "id": "5ca01602",
   "metadata": {},
   "outputs": [],
   "source": [
    "df_movies_data['Genre']=df_movies_data['Genre'].apply(lambda x: nfx.remove_multiple_spaces(x))"
   ]
  },
  {
   "cell_type": "code",
   "execution_count": 75,
   "id": "40810b53",
   "metadata": {},
   "outputs": [],
   "source": [
    "\n",
    "df_movies_data['Genre']=df_movies_data['Genre'].apply(lambda x: nfx.remove_bad_quotes(x))"
   ]
  },
  {
   "cell_type": "code",
   "execution_count": 76,
   "id": "dc158267",
   "metadata": {},
   "outputs": [
    {
     "data": {
      "text/plain": [
       "dtype('O')"
      ]
     },
     "execution_count": 76,
     "metadata": {},
     "output_type": "execute_result"
    }
   ],
   "source": [
    "df_movies_data['Genre'].dtype"
   ]
  },
  {
   "cell_type": "code",
   "execution_count": 77,
   "id": "fcbf0a0d",
   "metadata": {},
   "outputs": [
    {
     "data": {
      "text/plain": [
       "['Action', 'Adventure', 'Sci-Fi']                       56\n",
       "['Comedy']                                              35\n",
       "['Comedy', 'Romance']                                   30\n",
       "['Action', 'Adventure', 'Thriller']                     28\n",
       "['Action', 'Crime', 'Thriller']                         23\n",
       "                                                        ..\n",
       "['Biography', 'Comedy', 'Drama', 'Romance']              1\n",
       "['Drama', 'History']                                     1\n",
       "['Drama', 'Family']                                      1\n",
       "['Action', 'Crime', 'Mystery', 'Sci-Fi', 'Thriller']     1\n",
       "['Comedy', 'Family', 'Fantasy', 'Romance']               1\n",
       "Name: Genre, Length: 309, dtype: int64"
      ]
     },
     "execution_count": 77,
     "metadata": {},
     "output_type": "execute_result"
    }
   ],
   "source": [
    "df_movies_data['Genre'].value_counts()"
   ]
  },
  {
   "cell_type": "code",
   "execution_count": 78,
   "id": "f64fba8e",
   "metadata": {},
   "outputs": [
    {
     "name": "stdout",
     "output_type": "stream",
     "text": [
      "{'Sci-Fi': 228, 'Thriller': 230, 'Fantasy': 227, 'Action': 396}\n",
      "{'Sci-Fi': 228, 'Thriller': 230, 'Fantasy': 227, 'Action': 396, 'Mystery': 87}\n",
      "{'Sci-Fi': 228, 'Thriller': 230, 'Fantasy': 227, 'Action': 396, 'Mystery': 87, 'Adventure': 432, 'Comedy': 399, 'Family': 227}\n"
     ]
    }
   ],
   "source": [
    "list1=[]\n",
    "dict1={}\n",
    "df_genre_sci=df_movies_data[df_movies_data['Genre'].str.contains('Sci-Fi',case=False)]\n",
    "#len(df_genre_action)\n",
    "list1.append(len(df_genre_sci))\n",
    "dict1['Sci-Fi']=len(df_genre_sci)\n",
    "df_genre_thriller=df_movies_data[df_movies_data['Genre'].str.contains('Thriller',case=False)]\n",
    "#len(df_genre_action)\n",
    "list1.append(len(df_genre_thriller))\n",
    "dict1['Thriller']=len(df_genre_thriller)\n",
    "df_genre_Fantasy=df_movies_data[df_movies_data['Genre'].str.contains('Fantasy',case=False)]\n",
    "#len(df_genre_adv)\n",
    "list1.append(len(df_genre_Fantasy))\n",
    "dict1['Fantasy']=len(df_genre_Fantasy)\n",
    "#print(list1)\n",
    "#print(dict1)\n",
    "df_genre_action=df_movies_data[df_movies_data['Genre'].str.contains('Action',case=False)]\n",
    "#len(df_genre_action)\n",
    "list1.append(len(df_genre_action))\n",
    "dict1['Action']=len(df_genre_action)\n",
    "print(dict1)\n",
    "df_genre_Mystery=df_movies_data[df_movies_data['Genre'].str.contains('Mystery',case=False)]\n",
    "#len(df_genre_adv)\n",
    "list1.append(len(df_genre_Mystery))\n",
    "dict1['Mystery']=len(df_genre_Mystery)\n",
    "print(dict1)\n",
    "#print(list1)\n",
    "df_genre_adv=df_movies_data[df_movies_data['Genre'].str.contains('Adventure',case=False)]\n",
    "#len(df_genre_adv)\n",
    "list1.append(len(df_genre_adv))\n",
    "dict1['Adventure']=len(df_genre_adv)\n",
    "#print(dict1)\n",
    "#print(list1)\n",
    "df_genre_comedy=df_movies_data[df_movies_data['Genre'].str.contains('Comedy',case=False)]\n",
    "#len(df_genre_adv)\n",
    "list1.append(len(df_genre_comedy))\n",
    "dict1['Comedy']=len(df_genre_comedy)\n",
    "#print(dict1)\n",
    "#print(list1)\n",
    "df_genre_family=df_movies_data[df_movies_data['Genre'].str.contains('Family',case=False)]\n",
    "#len(df_genre_adv)\n",
    "list1.append(len(df_genre_family))\n",
    "dict1['Family']=len(df_genre_family)\n",
    "print(dict1)\n",
    "#print(list1)"
   ]
  },
  {
   "cell_type": "code",
   "execution_count": 79,
   "id": "e5683861",
   "metadata": {},
   "outputs": [],
   "source": [
    "data_items = dict1.items()\n",
    "data_list = list(data_items)\n",
    "df_g = pd.DataFrame(data_list,columns=['Genre','count'])"
   ]
  },
  {
   "cell_type": "code",
   "execution_count": 80,
   "id": "51c2e089",
   "metadata": {},
   "outputs": [
    {
     "data": {
      "text/html": [
       "<div>\n",
       "<style scoped>\n",
       "    .dataframe tbody tr th:only-of-type {\n",
       "        vertical-align: middle;\n",
       "    }\n",
       "\n",
       "    .dataframe tbody tr th {\n",
       "        vertical-align: top;\n",
       "    }\n",
       "\n",
       "    .dataframe thead th {\n",
       "        text-align: right;\n",
       "    }\n",
       "</style>\n",
       "<table border=\"1\" class=\"dataframe\">\n",
       "  <thead>\n",
       "    <tr style=\"text-align: right;\">\n",
       "      <th></th>\n",
       "      <th>Genre</th>\n",
       "      <th>count</th>\n",
       "    </tr>\n",
       "  </thead>\n",
       "  <tbody>\n",
       "    <tr>\n",
       "      <th>0</th>\n",
       "      <td>Sci-Fi</td>\n",
       "      <td>228</td>\n",
       "    </tr>\n",
       "    <tr>\n",
       "      <th>1</th>\n",
       "      <td>Thriller</td>\n",
       "      <td>230</td>\n",
       "    </tr>\n",
       "    <tr>\n",
       "      <th>2</th>\n",
       "      <td>Fantasy</td>\n",
       "      <td>227</td>\n",
       "    </tr>\n",
       "    <tr>\n",
       "      <th>3</th>\n",
       "      <td>Action</td>\n",
       "      <td>396</td>\n",
       "    </tr>\n",
       "    <tr>\n",
       "      <th>4</th>\n",
       "      <td>Mystery</td>\n",
       "      <td>87</td>\n",
       "    </tr>\n",
       "    <tr>\n",
       "      <th>5</th>\n",
       "      <td>Adventure</td>\n",
       "      <td>432</td>\n",
       "    </tr>\n",
       "    <tr>\n",
       "      <th>6</th>\n",
       "      <td>Comedy</td>\n",
       "      <td>399</td>\n",
       "    </tr>\n",
       "    <tr>\n",
       "      <th>7</th>\n",
       "      <td>Family</td>\n",
       "      <td>227</td>\n",
       "    </tr>\n",
       "  </tbody>\n",
       "</table>\n",
       "</div>"
      ],
      "text/plain": [
       "       Genre  count\n",
       "0     Sci-Fi    228\n",
       "1   Thriller    230\n",
       "2    Fantasy    227\n",
       "3     Action    396\n",
       "4    Mystery     87\n",
       "5  Adventure    432\n",
       "6     Comedy    399\n",
       "7     Family    227"
      ]
     },
     "execution_count": 80,
     "metadata": {},
     "output_type": "execute_result"
    }
   ],
   "source": [
    "#df_g.set_index('Genre')\n",
    "df_g"
   ]
  },
  {
   "cell_type": "code",
   "execution_count": 81,
   "id": "55374a6e",
   "metadata": {},
   "outputs": [
    {
     "data": {
      "text/plain": [
       "Text(0.5, 0, 'Genre')"
      ]
     },
     "execution_count": 81,
     "metadata": {},
     "output_type": "execute_result"
    },
    {
     "data": {
      "image/png": "[encoded data removed]",
      "text/plain": [
       "<Figure size 432x288 with 1 Axes>"
      ]
     },
     "metadata": {
      "needs_background": "light"
     },
     "output_type": "display_data"
    }
   ],
   "source": [
    "p=sns.barplot(y='count',x='Genre',data=df_g)\n",
    "p.set_xlabel(\"Genre\", fontsize = 20)\n"
   ]
  },
  {
   "cell_type": "code",
   "execution_count": 82,
   "id": "95b2cdca",
   "metadata": {},
   "outputs": [
    {
     "data": {
      "text/plain": [
       "<Figure size 1440x720 with 0 Axes>"
      ]
     },
     "execution_count": 82,
     "metadata": {},
     "output_type": "execute_result"
    },
    {
     "data": {
      "text/plain": [
       "<AxesSubplot:xlabel='Genre', ylabel='count'>"
      ]
     },
     "execution_count": 82,
     "metadata": {},
     "output_type": "execute_result"
    },
    {
     "data": {
      "text/plain": [
       "(array([0, 1, 2, 3, 4, 5, 6, 7]),\n",
       " [Text(0, 0, 'Sci-Fi'),\n",
       "  Text(1, 0, 'Thriller'),\n",
       "  Text(2, 0, 'Fantasy'),\n",
       "  Text(3, 0, 'Action'),\n",
       "  Text(4, 0, 'Mystery'),\n",
       "  Text(5, 0, 'Adventure'),\n",
       "  Text(6, 0, 'Comedy'),\n",
       "  Text(7, 0, 'Family')])"
      ]
     },
     "execution_count": 82,
     "metadata": {},
     "output_type": "execute_result"
    },
    {
     "data": {
      "image/png": "[encoded data removed]",
      "text/plain": [
       "<Figure size 1440x720 with 1 Axes>"
      ]
     },
     "metadata": {
      "needs_background": "light"
     },
     "output_type": "display_data"
    }
   ],
   "source": [
    "plt.figure(figsize=(20,10))\n",
    "sns.barplot(x='Genre',y='count',data=df_g)\n",
    "plt.xticks(rotation=45)\n",
    "plt.show()"
   ]
  },
  {
   "cell_type": "markdown",
   "id": "cc41656e",
   "metadata": {},
   "source": [
    "# #More Adventure Movies"
   ]
  },
  {
   "cell_type": "code",
   "execution_count": null,
   "id": "14f7d997",
   "metadata": {},
   "outputs": [],
   "source": []
  }
 ],
 "metadata": {
  "kernelspec": {
   "display_name": "Python 3 (ipykernel)",
   "language": "python",
   "name": "python3"
  },
  "language_info": {
   "codemirror_mode": {
    "name": "ipython",
    "version": 3
   },
   "file_extension": ".py",
   "mimetype": "text/x-python",
   "name": "python",
   "nbconvert_exporter": "python",
   "pygments_lexer": "ipython3",
   "version": "3.9.7"
  }
 },
 "nbformat": 4,
 "nbformat_minor": 5
}
